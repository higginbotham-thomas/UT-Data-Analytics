{
 "cells": [
  {
   "cell_type": "markdown",
   "metadata": {
    "colab_type": "text",
    "id": "view-in-github"
   },
   "source": [
    "<a href=\"https://colab.research.google.com/gist/seema200/d351baa7893a21dda4e8ccc3e712671d/untitled3.ipynb\" target=\"_parent\"><img src=\"https://colab.research.google.com/assets/colab-badge.svg\" alt=\"Open In Colab\"/></a>"
   ]
  },
  {
   "cell_type": "code",
   "execution_count": 5,
   "metadata": {
    "colab": {},
    "colab_type": "code",
    "id": "CwZec-99R8d_"
   },
   "outputs": [],
   "source": [
    "import pandas as pd\n",
    "import numpy as np\n",
    "\n",
    "np.random.seed(50)\n",
    "\n",
    "a = pd.DataFrame({'A':np.random.randn(10),\n",
    "                  'B':np.random.randn(10),\n",
    "                  'C':np.random.randn(10),\n",
    "                  'D':np.random.randn(10),\n",
    "                  'E':np.random.randn(10)})\n",
    "\n",
    "b = pd.DataFrame({'A':np.random.randn(10)})"
   ]
  },
  {
   "cell_type": "code",
   "execution_count": 6,
   "metadata": {
    "colab": {
     "base_uri": "https://localhost:8080/",
     "height": 204
    },
    "colab_type": "code",
    "id": "OkgWosxiSClc",
    "outputId": "7b13ecf9-decc-4ce7-a87f-beb0ed850ce9"
   },
   "outputs": [
    {
     "data": {
      "text/html": [
       "<div>\n",
       "<style scoped>\n",
       "    .dataframe tbody tr th:only-of-type {\n",
       "        vertical-align: middle;\n",
       "    }\n",
       "\n",
       "    .dataframe tbody tr th {\n",
       "        vertical-align: top;\n",
       "    }\n",
       "\n",
       "    .dataframe thead th {\n",
       "        text-align: right;\n",
       "    }\n",
       "</style>\n",
       "<table border=\"1\" class=\"dataframe\">\n",
       "  <thead>\n",
       "    <tr style=\"text-align: right;\">\n",
       "      <th></th>\n",
       "      <th>A</th>\n",
       "      <th>B</th>\n",
       "      <th>C</th>\n",
       "      <th>D</th>\n",
       "      <th>E</th>\n",
       "    </tr>\n",
       "  </thead>\n",
       "  <tbody>\n",
       "    <tr>\n",
       "      <th>0</th>\n",
       "      <td>-1.560352</td>\n",
       "      <td>0.126338</td>\n",
       "      <td>-0.393956</td>\n",
       "      <td>1.095210</td>\n",
       "      <td>-0.200416</td>\n",
       "    </tr>\n",
       "    <tr>\n",
       "      <th>1</th>\n",
       "      <td>-0.030978</td>\n",
       "      <td>0.862194</td>\n",
       "      <td>0.148116</td>\n",
       "      <td>1.338409</td>\n",
       "      <td>0.743038</td>\n",
       "    </tr>\n",
       "    <tr>\n",
       "      <th>2</th>\n",
       "      <td>-0.620928</td>\n",
       "      <td>0.696737</td>\n",
       "      <td>-0.412234</td>\n",
       "      <td>-1.368982</td>\n",
       "      <td>0.857362</td>\n",
       "    </tr>\n",
       "    <tr>\n",
       "      <th>3</th>\n",
       "      <td>-1.464580</td>\n",
       "      <td>-0.334565</td>\n",
       "      <td>-0.160715</td>\n",
       "      <td>0.486428</td>\n",
       "      <td>-1.506189</td>\n",
       "    </tr>\n",
       "    <tr>\n",
       "      <th>4</th>\n",
       "      <td>1.411946</td>\n",
       "      <td>-0.997526</td>\n",
       "      <td>0.139531</td>\n",
       "      <td>0.753522</td>\n",
       "      <td>-1.666352</td>\n",
       "    </tr>\n",
       "  </tbody>\n",
       "</table>\n",
       "</div>"
      ],
      "text/plain": [
       "          A         B         C         D         E\n",
       "0 -1.560352  0.126338 -0.393956  1.095210 -0.200416\n",
       "1 -0.030978  0.862194  0.148116  1.338409  0.743038\n",
       "2 -0.620928  0.696737 -0.412234 -1.368982  0.857362\n",
       "3 -1.464580 -0.334565 -0.160715  0.486428 -1.506189\n",
       "4  1.411946 -0.997526  0.139531  0.753522 -1.666352"
      ]
     },
     "execution_count": 6,
     "metadata": {},
     "output_type": "execute_result"
    }
   ],
   "source": [
    "a.head()"
   ]
  },
  {
   "cell_type": "code",
   "execution_count": 7,
   "metadata": {
    "colab": {
     "base_uri": "https://localhost:8080/",
     "height": 204
    },
    "colab_type": "code",
    "id": "d9lXXV_lSDsl",
    "outputId": "6e48492f-0e42-48d7-d2f5-639650867b07"
   },
   "outputs": [
    {
     "data": {
      "text/html": [
       "<div>\n",
       "<style scoped>\n",
       "    .dataframe tbody tr th:only-of-type {\n",
       "        vertical-align: middle;\n",
       "    }\n",
       "\n",
       "    .dataframe tbody tr th {\n",
       "        vertical-align: top;\n",
       "    }\n",
       "\n",
       "    .dataframe thead th {\n",
       "        text-align: right;\n",
       "    }\n",
       "</style>\n",
       "<table border=\"1\" class=\"dataframe\">\n",
       "  <thead>\n",
       "    <tr style=\"text-align: right;\">\n",
       "      <th></th>\n",
       "      <th>A</th>\n",
       "    </tr>\n",
       "  </thead>\n",
       "  <tbody>\n",
       "    <tr>\n",
       "      <th>0</th>\n",
       "      <td>-0.793217</td>\n",
       "    </tr>\n",
       "    <tr>\n",
       "      <th>1</th>\n",
       "      <td>-0.038835</td>\n",
       "    </tr>\n",
       "    <tr>\n",
       "      <th>2</th>\n",
       "      <td>2.705255</td>\n",
       "    </tr>\n",
       "    <tr>\n",
       "      <th>3</th>\n",
       "      <td>-1.491389</td>\n",
       "    </tr>\n",
       "    <tr>\n",
       "      <th>4</th>\n",
       "      <td>0.095978</td>\n",
       "    </tr>\n",
       "  </tbody>\n",
       "</table>\n",
       "</div>"
      ],
      "text/plain": [
       "          A\n",
       "0 -0.793217\n",
       "1 -0.038835\n",
       "2  2.705255\n",
       "3 -1.491389\n",
       "4  0.095978"
      ]
     },
     "execution_count": 7,
     "metadata": {},
     "output_type": "execute_result"
    }
   ],
   "source": [
    "b.head()"
   ]
  },
  {
   "cell_type": "code",
   "execution_count": 8,
   "metadata": {
    "colab": {
     "base_uri": "https://localhost:8080/",
     "height": 221
    },
    "colab_type": "code",
    "id": "mk5Yxz6oSK80",
    "outputId": "ad5f878f-d49b-4bdd-ddfc-12e9bc097b06"
   },
   "outputs": [
    {
     "name": "stdout",
     "output_type": "stream",
     "text": [
      "Pearson corr A    0.183806\n",
      "B    0.390609\n",
      "C   -0.101103\n",
      "D   -0.655732\n",
      "E    0.453005\n",
      "dtype: float64 \n",
      " spearman corr A    0.393939\n",
      "B    0.539394\n",
      "C   -0.018182\n",
      "D   -0.515152\n",
      "E    0.115152\n",
      "dtype: float64\n"
     ]
    }
   ],
   "source": [
    "from scipy.stats import spearmanr, pearsonr\n",
    "\n",
    "#Pearson and spearman correlation coeficient\n",
    "pr_corr = a.apply(lambda col: pearsonr(col, b.iloc[:,0])[0], axis=0)\n",
    "\n",
    "spr_corr = a.apply(lambda col: spearmanr(col, b.iloc[:,0])[0], axis=0)\n",
    "\n",
    "print('Pearson corr', pr_corr,'\\n','spearman corr',spr_corr)"
   ]
  }
 ],
 "metadata": {
  "colab": {
   "include_colab_link": true,
   "name": "Untitled3.ipynb",
   "provenance": [],
   "version": "0.3.2"
  },
  "kernelspec": {
   "display_name": "Python 3 (ipykernel)",
   "language": "python",
   "name": "python3"
  },
  "language_info": {
   "codemirror_mode": {
    "name": "ipython",
    "version": 3
   },
   "file_extension": ".py",
   "mimetype": "text/x-python",
   "name": "python",
   "nbconvert_exporter": "python",
   "pygments_lexer": "ipython3",
   "version": "3.9.12"
  }
 },
 "nbformat": 4,
 "nbformat_minor": 1
}
