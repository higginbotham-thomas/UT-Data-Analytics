{
 "cells": [
  {
   "cell_type": "markdown",
   "id": "ed11a91d",
   "metadata": {},
   "source": [
    "# Blackwell Electronics\n",
    "## Customer Transaction Data \n",
    "## Exploratory Analysis\n",
    "\n",
    "* Do customers in different regions spend more per transaction?\n",
    "* Is there a relationship between the number of items purchased and the amount spent?\n",
    "\n"
   ]
  },
  {
   "cell_type": "markdown",
   "id": "9c68030d",
   "metadata": {},
   "source": [
    "*Data Source: Demographic_Data.csv (provided by Danielle Sherman)*"
   ]
  },
  {
   "cell_type": "code",
   "execution_count": 1,
   "id": "5b461870",
   "metadata": {},
   "outputs": [],
   "source": [
    "#Import libraries\n",
    "\n",
    "import numpy as np\n",
    "import pandas as pd\n",
    "from pandas import Series, DataFrame\n",
    "import matplotlib as mpl\n",
    "import matplotlib.pyplot as plt\n",
    "import matplotlib.pylab as plt\n",
    "import seaborn as sns \n",
    "%matplotlib inline\n",
    "\n",
    "# Set default matplot figure size\n",
    "plt.rcParams['figure.figsize'] = (10.0, 8.0)"
   ]
  },
  {
   "cell_type": "markdown",
   "id": "1fa7b250",
   "metadata": {},
   "source": [
    "### Initial Analysis"
   ]
  },
  {
   "cell_type": "code",
   "execution_count": 2,
   "id": "9b4b9e30",
   "metadata": {},
   "outputs": [],
   "source": [
    "# Import the csv file for analysis\n",
    "df = pd.read_csv('demographic_data.csv')"
   ]
  },
  {
   "cell_type": "code",
   "execution_count": 3,
   "id": "e511551f",
   "metadata": {},
   "outputs": [
    {
     "data": {
      "text/html": [
       "<div>\n",
       "<style scoped>\n",
       "    .dataframe tbody tr th:only-of-type {\n",
       "        vertical-align: middle;\n",
       "    }\n",
       "\n",
       "    .dataframe tbody tr th {\n",
       "        vertical-align: top;\n",
       "    }\n",
       "\n",
       "    .dataframe thead th {\n",
       "        text-align: right;\n",
       "    }\n",
       "</style>\n",
       "<table border=\"1\" class=\"dataframe\">\n",
       "  <thead>\n",
       "    <tr style=\"text-align: right;\">\n",
       "      <th></th>\n",
       "      <th>in-store</th>\n",
       "      <th>age</th>\n",
       "      <th>items</th>\n",
       "      <th>amount</th>\n",
       "      <th>region</th>\n",
       "    </tr>\n",
       "  </thead>\n",
       "  <tbody>\n",
       "    <tr>\n",
       "      <th>0</th>\n",
       "      <td>0</td>\n",
       "      <td>37</td>\n",
       "      <td>4</td>\n",
       "      <td>281.03</td>\n",
       "      <td>2</td>\n",
       "    </tr>\n",
       "    <tr>\n",
       "      <th>1</th>\n",
       "      <td>0</td>\n",
       "      <td>35</td>\n",
       "      <td>2</td>\n",
       "      <td>219.51</td>\n",
       "      <td>2</td>\n",
       "    </tr>\n",
       "    <tr>\n",
       "      <th>2</th>\n",
       "      <td>1</td>\n",
       "      <td>45</td>\n",
       "      <td>3</td>\n",
       "      <td>1525.70</td>\n",
       "      <td>4</td>\n",
       "    </tr>\n",
       "    <tr>\n",
       "      <th>3</th>\n",
       "      <td>1</td>\n",
       "      <td>46</td>\n",
       "      <td>3</td>\n",
       "      <td>715.25</td>\n",
       "      <td>3</td>\n",
       "    </tr>\n",
       "    <tr>\n",
       "      <th>4</th>\n",
       "      <td>1</td>\n",
       "      <td>33</td>\n",
       "      <td>4</td>\n",
       "      <td>1937.50</td>\n",
       "      <td>1</td>\n",
       "    </tr>\n",
       "  </tbody>\n",
       "</table>\n",
       "</div>"
      ],
      "text/plain": [
       "   in-store  age  items   amount  region\n",
       "0         0   37      4   281.03       2\n",
       "1         0   35      2   219.51       2\n",
       "2         1   45      3  1525.70       4\n",
       "3         1   46      3   715.25       3\n",
       "4         1   33      4  1937.50       1"
      ]
     },
     "execution_count": 3,
     "metadata": {},
     "output_type": "execute_result"
    }
   ],
   "source": [
    "# Check the first 5 rows of the data frame\n",
    "df.head()"
   ]
  },
  {
   "cell_type": "code",
   "execution_count": 4,
   "id": "83897e24",
   "metadata": {},
   "outputs": [
    {
     "name": "stdout",
     "output_type": "stream",
     "text": [
      "<class 'pandas.core.frame.DataFrame'>\n",
      "RangeIndex: 80000 entries, 0 to 79999\n",
      "Data columns (total 5 columns):\n",
      " #   Column    Non-Null Count  Dtype  \n",
      "---  ------    --------------  -----  \n",
      " 0   in-store  80000 non-null  int64  \n",
      " 1   age       80000 non-null  int64  \n",
      " 2   items     80000 non-null  int64  \n",
      " 3   amount    80000 non-null  float64\n",
      " 4   region    80000 non-null  int64  \n",
      "dtypes: float64(1), int64(4)\n",
      "memory usage: 3.1 MB\n"
     ]
    }
   ],
   "source": [
    "# Show the number of values and data type for each column\n",
    "df.info()"
   ]
  },
  {
   "cell_type": "code",
   "execution_count": 5,
   "id": "f7c47016",
   "metadata": {},
   "outputs": [
    {
     "data": {
      "text/plain": [
       "Index(['in-store', 'age', 'items', 'amount', 'region'], dtype='object')"
      ]
     },
     "execution_count": 5,
     "metadata": {},
     "output_type": "execute_result"
    }
   ],
   "source": [
    "# Check the column names\n",
    "df.columns"
   ]
  },
  {
   "cell_type": "code",
   "execution_count": 6,
   "id": "760bd543",
   "metadata": {},
   "outputs": [
    {
     "data": {
      "text/html": [
       "<div>\n",
       "<style scoped>\n",
       "    .dataframe tbody tr th:only-of-type {\n",
       "        vertical-align: middle;\n",
       "    }\n",
       "\n",
       "    .dataframe tbody tr th {\n",
       "        vertical-align: top;\n",
       "    }\n",
       "\n",
       "    .dataframe thead th {\n",
       "        text-align: right;\n",
       "    }\n",
       "</style>\n",
       "<table border=\"1\" class=\"dataframe\">\n",
       "  <thead>\n",
       "    <tr style=\"text-align: right;\">\n",
       "      <th></th>\n",
       "      <th>in-store</th>\n",
       "      <th>age</th>\n",
       "      <th>items</th>\n",
       "      <th>amount</th>\n",
       "      <th>region</th>\n",
       "    </tr>\n",
       "  </thead>\n",
       "  <tbody>\n",
       "    <tr>\n",
       "      <th>count</th>\n",
       "      <td>80000.000000</td>\n",
       "      <td>80000.000000</td>\n",
       "      <td>80000.000000</td>\n",
       "      <td>80000.000000</td>\n",
       "      <td>80000.000000</td>\n",
       "    </tr>\n",
       "    <tr>\n",
       "      <th>mean</th>\n",
       "      <td>0.500000</td>\n",
       "      <td>45.757925</td>\n",
       "      <td>4.504975</td>\n",
       "      <td>835.919670</td>\n",
       "      <td>2.675000</td>\n",
       "    </tr>\n",
       "    <tr>\n",
       "      <th>std</th>\n",
       "      <td>0.500003</td>\n",
       "      <td>15.715679</td>\n",
       "      <td>2.061238</td>\n",
       "      <td>721.273736</td>\n",
       "      <td>1.126672</td>\n",
       "    </tr>\n",
       "    <tr>\n",
       "      <th>min</th>\n",
       "      <td>0.000000</td>\n",
       "      <td>18.000000</td>\n",
       "      <td>1.000000</td>\n",
       "      <td>5.004700</td>\n",
       "      <td>1.000000</td>\n",
       "    </tr>\n",
       "    <tr>\n",
       "      <th>25%</th>\n",
       "      <td>0.000000</td>\n",
       "      <td>33.000000</td>\n",
       "      <td>3.000000</td>\n",
       "      <td>285.140000</td>\n",
       "      <td>2.000000</td>\n",
       "    </tr>\n",
       "    <tr>\n",
       "      <th>50%</th>\n",
       "      <td>0.500000</td>\n",
       "      <td>45.000000</td>\n",
       "      <td>4.000000</td>\n",
       "      <td>582.315000</td>\n",
       "      <td>3.000000</td>\n",
       "    </tr>\n",
       "    <tr>\n",
       "      <th>75%</th>\n",
       "      <td>1.000000</td>\n",
       "      <td>56.000000</td>\n",
       "      <td>6.000000</td>\n",
       "      <td>1233.700000</td>\n",
       "      <td>4.000000</td>\n",
       "    </tr>\n",
       "    <tr>\n",
       "      <th>max</th>\n",
       "      <td>1.000000</td>\n",
       "      <td>85.000000</td>\n",
       "      <td>8.000000</td>\n",
       "      <td>3000.000000</td>\n",
       "      <td>4.000000</td>\n",
       "    </tr>\n",
       "  </tbody>\n",
       "</table>\n",
       "</div>"
      ],
      "text/plain": [
       "           in-store           age         items        amount        region\n",
       "count  80000.000000  80000.000000  80000.000000  80000.000000  80000.000000\n",
       "mean       0.500000     45.757925      4.504975    835.919670      2.675000\n",
       "std        0.500003     15.715679      2.061238    721.273736      1.126672\n",
       "min        0.000000     18.000000      1.000000      5.004700      1.000000\n",
       "25%        0.000000     33.000000      3.000000    285.140000      2.000000\n",
       "50%        0.500000     45.000000      4.000000    582.315000      3.000000\n",
       "75%        1.000000     56.000000      6.000000   1233.700000      4.000000\n",
       "max        1.000000     85.000000      8.000000   3000.000000      4.000000"
      ]
     },
     "execution_count": 6,
     "metadata": {},
     "output_type": "execute_result"
    }
   ],
   "source": [
    "# basic statistics for each column of the data\n",
    "df.describe()"
   ]
  },
  {
   "cell_type": "code",
   "execution_count": 7,
   "id": "4a8efb9d",
   "metadata": {},
   "outputs": [
    {
     "data": {
      "text/plain": [
       "in-store        2\n",
       "age            68\n",
       "items           8\n",
       "amount      56112\n",
       "region          4\n",
       "dtype: int64"
      ]
     },
     "execution_count": 7,
     "metadata": {},
     "output_type": "execute_result"
    }
   ],
   "source": [
    "# Count the unique values for each column\n",
    "\n",
    "df.nunique()"
   ]
  },
  {
   "cell_type": "code",
   "execution_count": 8,
   "id": "e3d47824",
   "metadata": {},
   "outputs": [],
   "source": [
    "# Drop any duplicate records\n",
    "df = df.drop_duplicates()"
   ]
  },
  {
   "cell_type": "code",
   "execution_count": 9,
   "id": "e334b1a1",
   "metadata": {},
   "outputs": [
    {
     "data": {
      "text/plain": [
       "in-store\n",
       "0    39989\n",
       "1    39990\n",
       "Name: in-store, dtype: int64"
      ]
     },
     "execution_count": 9,
     "metadata": {},
     "output_type": "execute_result"
    }
   ],
   "source": [
    "# Number of transactions, in-store vs online\n",
    "df.groupby('in-store')['in-store'].count()"
   ]
  },
  {
   "cell_type": "code",
   "execution_count": 10,
   "id": "27637a49",
   "metadata": {},
   "outputs": [
    {
     "data": {
      "text/plain": [
       "region\n",
       "1    15997\n",
       "2    19994\n",
       "3    18000\n",
       "4    25988\n",
       "Name: region, dtype: int64"
      ]
     },
     "execution_count": 10,
     "metadata": {},
     "output_type": "execute_result"
    }
   ],
   "source": [
    "# Number of transactions, by region\n",
    "df.groupby('region')['region'].count()"
   ]
  },
  {
   "cell_type": "markdown",
   "id": "3c83f5ff",
   "metadata": {},
   "source": [
    "**Initial Analysis Summary:**\n",
    "\n",
    "* There are 80,000 observations.\n",
    "* All columns supplied are integer values, except for the amount column which is a floating point decimal.\n",
    "\n",
    "* in-store: Purchases made in-store or online\n",
    "    * 0 = in-store purchases (39,989 values)\n",
    "    * 1 = online purchases (39,990 values)\n",
    "    \n",
    "* age: The age of the customer \n",
    "    * 68 unique values from 18 to 85 years\n",
    "    * Mean age is 45.8 years\n",
    "    * Standard deviation is 15.7 years\n",
    "\n",
    "* items: The number of items purchased in the transaction\n",
    "    * 8 values from 1 to 8 items\n",
    "    * Mean is 4.5 items\n",
    "    * Standard deviation is 2.1 items\n",
    "\n",
    "* amount: The total value, in dollars, purchased in the transaction\n",
    "    * 56,112 unique values from \\\\$5.00 to \\\\$3,000\n",
    "    * Mean is \\\\$835.92\n",
    "    * Max is \\\\$3000.00\n",
    "* region: The sales region where the transaction took place\n",
    "    * 1 = North (15,997 values)\n",
    "    * 2 = South (19,994 values)\n",
    "    * 3 = East (18,000 values)\n",
    "    * 4 = West (25,988 values)"
   ]
  },
  {
   "cell_type": "markdown",
   "id": "e029127a",
   "metadata": {},
   "source": [
    "### Data Preparation"
   ]
  },
  {
   "cell_type": "code",
   "execution_count": 11,
   "id": "96b06ebf",
   "metadata": {},
   "outputs": [],
   "source": [
    "# Add columns with descriptive labels for in-store and region\n",
    "# Replace numeric codes for in-store and region with descriptive labels\n",
    "\n",
    "# trantype - 'Transaction Type' - in-store or online\n",
    "# regionname - 'Region Name'\n",
    "\n",
    "df.loc[df['in-store'] == 1, 'trantype'] = 'in-store'\n",
    "df.loc[df['in-store'] == 0, 'trantype'] = 'online'\n",
    "\n",
    "df.loc[df['region'] == 1, 'regionname'] = 'North'\n",
    "df.loc[df['region'] == 2, 'regionname'] = 'South'\n",
    "df.loc[df['region'] == 3, 'regionname'] = 'East'\n",
    "df.loc[df['region'] == 4, 'regionname'] = 'West'"
   ]
  },
  {
   "cell_type": "code",
   "execution_count": 12,
   "id": "85ae7f93",
   "metadata": {},
   "outputs": [
    {
     "data": {
      "text/html": [
       "<div>\n",
       "<style scoped>\n",
       "    .dataframe tbody tr th:only-of-type {\n",
       "        vertical-align: middle;\n",
       "    }\n",
       "\n",
       "    .dataframe tbody tr th {\n",
       "        vertical-align: top;\n",
       "    }\n",
       "\n",
       "    .dataframe thead th {\n",
       "        text-align: right;\n",
       "    }\n",
       "</style>\n",
       "<table border=\"1\" class=\"dataframe\">\n",
       "  <thead>\n",
       "    <tr style=\"text-align: right;\">\n",
       "      <th></th>\n",
       "      <th>in-store</th>\n",
       "      <th>age</th>\n",
       "      <th>items</th>\n",
       "      <th>amount</th>\n",
       "      <th>region</th>\n",
       "      <th>trantype</th>\n",
       "      <th>regionname</th>\n",
       "    </tr>\n",
       "  </thead>\n",
       "  <tbody>\n",
       "    <tr>\n",
       "      <th>0</th>\n",
       "      <td>0</td>\n",
       "      <td>37</td>\n",
       "      <td>4</td>\n",
       "      <td>281.03</td>\n",
       "      <td>2</td>\n",
       "      <td>online</td>\n",
       "      <td>South</td>\n",
       "    </tr>\n",
       "    <tr>\n",
       "      <th>1</th>\n",
       "      <td>0</td>\n",
       "      <td>35</td>\n",
       "      <td>2</td>\n",
       "      <td>219.51</td>\n",
       "      <td>2</td>\n",
       "      <td>online</td>\n",
       "      <td>South</td>\n",
       "    </tr>\n",
       "    <tr>\n",
       "      <th>2</th>\n",
       "      <td>1</td>\n",
       "      <td>45</td>\n",
       "      <td>3</td>\n",
       "      <td>1525.70</td>\n",
       "      <td>4</td>\n",
       "      <td>in-store</td>\n",
       "      <td>West</td>\n",
       "    </tr>\n",
       "    <tr>\n",
       "      <th>3</th>\n",
       "      <td>1</td>\n",
       "      <td>46</td>\n",
       "      <td>3</td>\n",
       "      <td>715.25</td>\n",
       "      <td>3</td>\n",
       "      <td>in-store</td>\n",
       "      <td>East</td>\n",
       "    </tr>\n",
       "    <tr>\n",
       "      <th>4</th>\n",
       "      <td>1</td>\n",
       "      <td>33</td>\n",
       "      <td>4</td>\n",
       "      <td>1937.50</td>\n",
       "      <td>1</td>\n",
       "      <td>in-store</td>\n",
       "      <td>North</td>\n",
       "    </tr>\n",
       "  </tbody>\n",
       "</table>\n",
       "</div>"
      ],
      "text/plain": [
       "   in-store  age  items   amount  region  trantype regionname\n",
       "0         0   37      4   281.03       2    online      South\n",
       "1         0   35      2   219.51       2    online      South\n",
       "2         1   45      3  1525.70       4  in-store       West\n",
       "3         1   46      3   715.25       3  in-store       East\n",
       "4         1   33      4  1937.50       1  in-store      North"
      ]
     },
     "execution_count": 12,
     "metadata": {},
     "output_type": "execute_result"
    }
   ],
   "source": [
    "# Show the first five rows with the descriptive labels\n",
    "df.head()"
   ]
  },
  {
   "cell_type": "code",
   "execution_count": 13,
   "id": "ae1af793",
   "metadata": {},
   "outputs": [
    {
     "data": {
      "text/html": [
       "<div>\n",
       "<style scoped>\n",
       "    .dataframe tbody tr th:only-of-type {\n",
       "        vertical-align: middle;\n",
       "    }\n",
       "\n",
       "    .dataframe tbody tr th {\n",
       "        vertical-align: top;\n",
       "    }\n",
       "\n",
       "    .dataframe thead th {\n",
       "        text-align: right;\n",
       "    }\n",
       "</style>\n",
       "<table border=\"1\" class=\"dataframe\">\n",
       "  <thead>\n",
       "    <tr style=\"text-align: right;\">\n",
       "      <th></th>\n",
       "      <th>in-store</th>\n",
       "      <th>age</th>\n",
       "      <th>items</th>\n",
       "      <th>amount</th>\n",
       "      <th>region</th>\n",
       "    </tr>\n",
       "  </thead>\n",
       "  <tbody>\n",
       "    <tr>\n",
       "      <th>in-store</th>\n",
       "      <td>1.000000</td>\n",
       "      <td>-0.178180</td>\n",
       "      <td>-0.003897</td>\n",
       "      <td>-0.085573</td>\n",
       "      <td>-0.133171</td>\n",
       "    </tr>\n",
       "    <tr>\n",
       "      <th>age</th>\n",
       "      <td>-0.178180</td>\n",
       "      <td>1.000000</td>\n",
       "      <td>0.000657</td>\n",
       "      <td>-0.282033</td>\n",
       "      <td>-0.235370</td>\n",
       "    </tr>\n",
       "    <tr>\n",
       "      <th>items</th>\n",
       "      <td>-0.003897</td>\n",
       "      <td>0.000657</td>\n",
       "      <td>1.000000</td>\n",
       "      <td>0.000384</td>\n",
       "      <td>-0.001904</td>\n",
       "    </tr>\n",
       "    <tr>\n",
       "      <th>amount</th>\n",
       "      <td>-0.085573</td>\n",
       "      <td>-0.282033</td>\n",
       "      <td>0.000384</td>\n",
       "      <td>1.000000</td>\n",
       "      <td>0.403486</td>\n",
       "    </tr>\n",
       "    <tr>\n",
       "      <th>region</th>\n",
       "      <td>-0.133171</td>\n",
       "      <td>-0.235370</td>\n",
       "      <td>-0.001904</td>\n",
       "      <td>0.403486</td>\n",
       "      <td>1.000000</td>\n",
       "    </tr>\n",
       "  </tbody>\n",
       "</table>\n",
       "</div>"
      ],
      "text/plain": [
       "          in-store       age     items    amount    region\n",
       "in-store  1.000000 -0.178180 -0.003897 -0.085573 -0.133171\n",
       "age      -0.178180  1.000000  0.000657 -0.282033 -0.235370\n",
       "items    -0.003897  0.000657  1.000000  0.000384 -0.001904\n",
       "amount   -0.085573 -0.282033  0.000384  1.000000  0.403486\n",
       "region   -0.133171 -0.235370 -0.001904  0.403486  1.000000"
      ]
     },
     "execution_count": 13,
     "metadata": {},
     "output_type": "execute_result"
    }
   ],
   "source": [
    "# Correlation matrix\n",
    "df.corr()"
   ]
  },
  {
   "cell_type": "markdown",
   "id": "2ab8e88a",
   "metadata": {},
   "source": [
    "Positive correlations exist between items and age, items and amount, and region and amount"
   ]
  },
  {
   "cell_type": "code",
   "execution_count": 14,
   "id": "beb20a5f",
   "metadata": {},
   "outputs": [
    {
     "data": {
      "text/html": [
       "<div>\n",
       "<style scoped>\n",
       "    .dataframe tbody tr th:only-of-type {\n",
       "        vertical-align: middle;\n",
       "    }\n",
       "\n",
       "    .dataframe tbody tr th {\n",
       "        vertical-align: top;\n",
       "    }\n",
       "\n",
       "    .dataframe thead th {\n",
       "        text-align: right;\n",
       "    }\n",
       "</style>\n",
       "<table border=\"1\" class=\"dataframe\">\n",
       "  <thead>\n",
       "    <tr style=\"text-align: right;\">\n",
       "      <th></th>\n",
       "      <th>in-store</th>\n",
       "      <th>age</th>\n",
       "      <th>items</th>\n",
       "      <th>amount</th>\n",
       "      <th>region</th>\n",
       "    </tr>\n",
       "  </thead>\n",
       "  <tbody>\n",
       "    <tr>\n",
       "      <th>in-store</th>\n",
       "      <td>0.250003</td>\n",
       "      <td>-1.400071</td>\n",
       "      <td>-0.004017</td>\n",
       "      <td>-30.860425</td>\n",
       "      <td>-0.075019</td>\n",
       "    </tr>\n",
       "    <tr>\n",
       "      <th>age</th>\n",
       "      <td>-1.400071</td>\n",
       "      <td>246.966189</td>\n",
       "      <td>0.021270</td>\n",
       "      <td>-3196.782841</td>\n",
       "      <td>-4.167305</td>\n",
       "    </tr>\n",
       "    <tr>\n",
       "      <th>items</th>\n",
       "      <td>-0.004017</td>\n",
       "      <td>0.021270</td>\n",
       "      <td>4.248751</td>\n",
       "      <td>0.570791</td>\n",
       "      <td>-0.004421</td>\n",
       "    </tr>\n",
       "    <tr>\n",
       "      <th>amount</th>\n",
       "      <td>-30.860425</td>\n",
       "      <td>-3196.782841</td>\n",
       "      <td>0.570791</td>\n",
       "      <td>520221.252295</td>\n",
       "      <td>327.874873</td>\n",
       "    </tr>\n",
       "    <tr>\n",
       "      <th>region</th>\n",
       "      <td>-0.075019</td>\n",
       "      <td>-4.167305</td>\n",
       "      <td>-0.004421</td>\n",
       "      <td>327.874873</td>\n",
       "      <td>1.269321</td>\n",
       "    </tr>\n",
       "  </tbody>\n",
       "</table>\n",
       "</div>"
      ],
      "text/plain": [
       "           in-store          age     items         amount      region\n",
       "in-store   0.250003    -1.400071 -0.004017     -30.860425   -0.075019\n",
       "age       -1.400071   246.966189  0.021270   -3196.782841   -4.167305\n",
       "items     -0.004017     0.021270  4.248751       0.570791   -0.004421\n",
       "amount   -30.860425 -3196.782841  0.570791  520221.252295  327.874873\n",
       "region    -0.075019    -4.167305 -0.004421     327.874873    1.269321"
      ]
     },
     "execution_count": 14,
     "metadata": {},
     "output_type": "execute_result"
    }
   ],
   "source": [
    "# Covariance matrix\n",
    "df.cov()"
   ]
  },
  {
   "cell_type": "markdown",
   "id": "1590b795",
   "metadata": {},
   "source": [
    "* Positive covariance exists between items and age, items and amount, and region and amount.\n",
    "* The strongest covariance is between region and amount. Because region is descriptive, this value (327.87) would indicate that customers in different regions spend different amounts per transaction, indicating it is likely that customers in different regions spend more per transaction.\n",
    "* The strongest covariance between non-descriptive columns is between items and amount (0.57). This would indicate that there is a relationship between the number of items purchased and the amount spent."
   ]
  },
  {
   "cell_type": "markdown",
   "id": "20dea5aa",
   "metadata": {},
   "source": [
    "### Do customers in different regions spend more per transaction?"
   ]
  },
  {
   "cell_type": "code",
   "execution_count": 15,
   "id": "aa848c4f",
   "metadata": {},
   "outputs": [
    {
     "data": {
      "text/plain": [
       "region\n",
       "1     744.990939\n",
       "2     252.097741\n",
       "3     917.969637\n",
       "4    1283.938357\n",
       "Name: amount, dtype: float64"
      ]
     },
     "execution_count": 15,
     "metadata": {},
     "output_type": "execute_result"
    }
   ],
   "source": [
    "# Mean of amount spent per transaction by region\n",
    "df.groupby('region')['amount'].mean()"
   ]
  },
  {
   "cell_type": "markdown",
   "id": "da5c059f",
   "metadata": {},
   "source": [
    "It would appear that customers in region 4 spend more per transaction, on average, while customers in region 2 spend much less."
   ]
  },
  {
   "cell_type": "code",
   "execution_count": 16,
   "id": "5baeb503",
   "metadata": {},
   "outputs": [
    {
     "data": {
      "image/png": "[encoded data removed]",
      "text/plain": [
       "<Figure size 720x576 with 1 Axes>"
      ]
     },
     "metadata": {
      "needs_background": "light"
     },
     "output_type": "display_data"
    }
   ],
   "source": [
    "# Prepare boxplot of amounts spent per region\n",
    "R1 = df.loc[df.loc[:,'regionname']=='North']\n",
    "R1 = R1['amount'].apply(float)\n",
    "\n",
    "R2 = df.loc[df.loc[:,'regionname']=='South']\n",
    "R2 = R2['amount'].apply(float)\n",
    "\n",
    "R3 = df.loc[df.loc[:,'regionname']=='East']\n",
    "R3 = R3['amount'].apply(float)\n",
    "\n",
    "R4 = df.loc[df.loc[:,'regionname']=='West']\n",
    "R4 = R4['amount'].apply(float)\n",
    "\n",
    "plt.boxplot([R1,R2,R3,R4],0,'gD')\n",
    "plt.show()"
   ]
  },
  {
   "cell_type": "code",
   "execution_count": 17,
   "id": "2c915360",
   "metadata": {},
   "outputs": [
    {
     "data": {
      "text/plain": [
       "<seaborn.axisgrid.FacetGrid at 0x7fdc3423b940>"
      ]
     },
     "execution_count": 17,
     "metadata": {},
     "output_type": "execute_result"
    },
    {
     "data": {
      "image/png": "[encoded data removed]",
      "text/plain": [
       "<Figure size 360x360 with 1 Axes>"
      ]
     },
     "metadata": {
      "needs_background": "light"
     },
     "output_type": "display_data"
    }
   ],
   "source": [
    "# box plot showing the plot of amount for each count of items purchased\n",
    "sns.catplot(x='regionname', y='amount', data=df, kind='box', order=['North','South','East','West'] )"
   ]
  },
  {
   "cell_type": "markdown",
   "id": "13da5a8d",
   "metadata": {},
   "source": [
    "Again, it appears that customers in region 4 spend more per transaction on average. The interquartile range for region 4 is for the most part higher than the mean of each of the other individual regions. The interquartile range for region 2 is lower than the interquartile ranges of each of the other individual regions, so there is a big difference between spending patterns of regions 2 and 4. Regions 1 and 3 are more similar to each other in regard to the mean, but region 3 has a larger interquartile range and a much higher maximum transaction amount. "
   ]
  },
  {
   "cell_type": "code",
   "execution_count": 18,
   "id": "0f3d04af",
   "metadata": {},
   "outputs": [
    {
     "data": {
      "text/plain": [
       "<seaborn.axisgrid.FacetGrid at 0x7fdc407edb40>"
      ]
     },
     "execution_count": 18,
     "metadata": {},
     "output_type": "execute_result"
    },
    {
     "data": {
      "image/png": "[encoded data removed]",
      "text/plain": [
       "<Figure size 931.875x216 with 1 Axes>"
      ]
     },
     "metadata": {
      "needs_background": "light"
     },
     "output_type": "display_data"
    }
   ],
   "source": [
    "#plot showing distribution of amount spent grouped by region\n",
    "fig = sns.FacetGrid(df, hue='regionname', aspect = 4)\n",
    "fig.map(sns.kdeplot,'amount',shade=True)\n",
    "oldest=df['amount'].max()\n",
    "fig.set(xlim=(0,oldest))\n",
    "fig.set(title='Distribution of Amount Spent Grouped by Region')\n",
    "fig.add_legend()"
   ]
  },
  {
   "cell_type": "markdown",
   "id": "66b82354",
   "metadata": {},
   "source": [
    "In this plot, we can visually see the big differences between region 2 (South) and 4 (West). The density of amounts for the South region is concentrated under \\\\$500, while the West region's amounts are spread much more broadly. The North and East regions appear to have amounts concentrated under \\\\$1000, but the East region has a much broader range between the high and low amounts."
   ]
  },
  {
   "cell_type": "code",
   "execution_count": 19,
   "id": "62edfbe1",
   "metadata": {
    "scrolled": true
   },
   "outputs": [
    {
     "data": {
      "text/html": [
       "<div>\n",
       "<style scoped>\n",
       "    .dataframe tbody tr th:only-of-type {\n",
       "        vertical-align: middle;\n",
       "    }\n",
       "\n",
       "    .dataframe tbody tr th {\n",
       "        vertical-align: top;\n",
       "    }\n",
       "\n",
       "    .dataframe thead th {\n",
       "        text-align: right;\n",
       "    }\n",
       "</style>\n",
       "<table border=\"1\" class=\"dataframe\">\n",
       "  <thead>\n",
       "    <tr style=\"text-align: right;\">\n",
       "      <th>trantype</th>\n",
       "      <th>in-store</th>\n",
       "      <th>online</th>\n",
       "      <th>Total</th>\n",
       "    </tr>\n",
       "    <tr>\n",
       "      <th>regionname</th>\n",
       "      <th></th>\n",
       "      <th></th>\n",
       "      <th></th>\n",
       "    </tr>\n",
       "  </thead>\n",
       "  <tbody>\n",
       "    <tr>\n",
       "      <th>East</th>\n",
       "      <td>520.941449</td>\n",
       "      <td>1541.715755</td>\n",
       "      <td>917.965944</td>\n",
       "    </tr>\n",
       "    <tr>\n",
       "      <th>North</th>\n",
       "      <td>744.992186</td>\n",
       "      <td>NaN</td>\n",
       "      <td>744.992186</td>\n",
       "    </tr>\n",
       "    <tr>\n",
       "      <th>South</th>\n",
       "      <td>NaN</td>\n",
       "      <td>252.095629</td>\n",
       "      <td>252.095629</td>\n",
       "    </tr>\n",
       "    <tr>\n",
       "      <th>West</th>\n",
       "      <td>1024.242650</td>\n",
       "      <td>1543.635986</td>\n",
       "      <td>1283.939318</td>\n",
       "    </tr>\n",
       "    <tr>\n",
       "      <th>Total</th>\n",
       "      <td>774.105626</td>\n",
       "      <td>897.545775</td>\n",
       "      <td>835.824929</td>\n",
       "    </tr>\n",
       "  </tbody>\n",
       "</table>\n",
       "</div>"
      ],
      "text/plain": [
       "trantype       in-store       online        Total\n",
       "regionname                                       \n",
       "East         520.941449  1541.715755   917.965944\n",
       "North        744.992186          NaN   744.992186\n",
       "South               NaN   252.095629   252.095629\n",
       "West        1024.242650  1543.635986  1283.939318\n",
       "Total        774.105626   897.545775   835.824929"
      ]
     },
     "execution_count": 19,
     "metadata": {},
     "output_type": "execute_result"
    }
   ],
   "source": [
    "#crosstab showing the total amount spent per region in the provided dataset\n",
    "pd.crosstab(index=df.regionname, columns=[df.trantype], values = df.amount.round(), aggfunc = 'mean', margins=True, margins_name='Total')"
   ]
  },
  {
   "cell_type": "code",
   "execution_count": 20,
   "id": "e36948e9",
   "metadata": {},
   "outputs": [
    {
     "data": {
      "text/html": [
       "<div>\n",
       "<style scoped>\n",
       "    .dataframe tbody tr th:only-of-type {\n",
       "        vertical-align: middle;\n",
       "    }\n",
       "\n",
       "    .dataframe tbody tr th {\n",
       "        vertical-align: top;\n",
       "    }\n",
       "\n",
       "    .dataframe thead th {\n",
       "        text-align: right;\n",
       "    }\n",
       "</style>\n",
       "<table border=\"1\" class=\"dataframe\">\n",
       "  <thead>\n",
       "    <tr style=\"text-align: right;\">\n",
       "      <th>trantype</th>\n",
       "      <th>in-store</th>\n",
       "      <th>online</th>\n",
       "      <th>Total</th>\n",
       "    </tr>\n",
       "    <tr>\n",
       "      <th>regionname</th>\n",
       "      <th></th>\n",
       "      <th></th>\n",
       "      <th></th>\n",
       "    </tr>\n",
       "  </thead>\n",
       "  <tbody>\n",
       "    <tr>\n",
       "      <th>East</th>\n",
       "      <td>5729835.0</td>\n",
       "      <td>10793552.0</td>\n",
       "      <td>16523387.0</td>\n",
       "    </tr>\n",
       "    <tr>\n",
       "      <th>North</th>\n",
       "      <td>11917640.0</td>\n",
       "      <td>NaN</td>\n",
       "      <td>11917640.0</td>\n",
       "    </tr>\n",
       "    <tr>\n",
       "      <th>South</th>\n",
       "      <td>NaN</td>\n",
       "      <td>5040400.0</td>\n",
       "      <td>5040400.0</td>\n",
       "    </tr>\n",
       "    <tr>\n",
       "      <th>West</th>\n",
       "      <td>13309009.0</td>\n",
       "      <td>20058006.0</td>\n",
       "      <td>33367015.0</td>\n",
       "    </tr>\n",
       "    <tr>\n",
       "      <th>Total</th>\n",
       "      <td>30956484.0</td>\n",
       "      <td>35891958.0</td>\n",
       "      <td>66848442.0</td>\n",
       "    </tr>\n",
       "  </tbody>\n",
       "</table>\n",
       "</div>"
      ],
      "text/plain": [
       "trantype      in-store      online       Total\n",
       "regionname                                    \n",
       "East         5729835.0  10793552.0  16523387.0\n",
       "North       11917640.0         NaN  11917640.0\n",
       "South              NaN   5040400.0   5040400.0\n",
       "West        13309009.0  20058006.0  33367015.0\n",
       "Total       30956484.0  35891958.0  66848442.0"
      ]
     },
     "execution_count": 20,
     "metadata": {},
     "output_type": "execute_result"
    }
   ],
   "source": [
    "#crosstab showing the total amount spent per region in the provided dataset\n",
    "pd.crosstab(index=df.regionname, columns=[df.trantype], values = df.amount.round(), aggfunc = sum, margins=True, margins_name='Total')"
   ]
  },
  {
   "cell_type": "markdown",
   "id": "f64735e8",
   "metadata": {},
   "source": [
    "In this table, we see that the North region does not have online transactions, and the South region does not have in-store transactions. The total of all transactions is \\\\$66,848,442, with more spent on online transactions than in-store. The West region has the highest total transaction total, followed by the East, North, and South. Both East and West have significantly higher amounts spent online vs in-store."
   ]
  },
  {
   "cell_type": "code",
   "execution_count": 21,
   "id": "d724c8c1",
   "metadata": {},
   "outputs": [
    {
     "data": {
      "text/plain": [
       "<AxesSubplot:ylabel='Frequency'>"
      ]
     },
     "execution_count": 21,
     "metadata": {},
     "output_type": "execute_result"
    },
    {
     "data": {
      "image/png": "[encoded data removed]",
      "text/plain": [
       "<Figure size 720x576 with 1 Axes>"
      ]
     },
     "metadata": {
      "needs_background": "light"
     },
     "output_type": "display_data"
    }
   ],
   "source": [
    "# histogram showing the frequency of the different amounts for transactions\n",
    "df['amount'].apply(float).plot.hist()"
   ]
  },
  {
   "cell_type": "markdown",
   "id": "57e5f7f0",
   "metadata": {},
   "source": [
    "The spending is different between regions, but why?"
   ]
  },
  {
   "cell_type": "code",
   "execution_count": 22,
   "id": "670d5f8c",
   "metadata": {},
   "outputs": [
    {
     "data": {
      "text/plain": [
       "<seaborn.axisgrid.FacetGrid at 0x7fdc341aed40>"
      ]
     },
     "execution_count": 22,
     "metadata": {},
     "output_type": "execute_result"
    },
    {
     "data": {
      "image/png": "[encoded data removed]",
      "text/plain": [
       "<Figure size 1440x360 with 4 Axes>"
      ]
     },
     "metadata": {
      "needs_background": "light"
     },
     "output_type": "display_data"
    }
   ],
   "source": [
    "#Plot showing the total value of transactions by online/in-store for each region\n",
    "sns.catplot(x='trantype', y='amount', data=df, kind='bar', palette='Pastel2', col='regionname', \n",
    "            col_order=['North','South','East','West'] )"
   ]
  },
  {
   "cell_type": "markdown",
   "id": "3a20fb58",
   "metadata": {},
   "source": [
    "We see that the North and South regions don't have both types of transactions. That could account for part of the difference. The East and West have about the same total online sales, but the East has fewer in-store sales."
   ]
  },
  {
   "cell_type": "code",
   "execution_count": 23,
   "id": "672deadd",
   "metadata": {},
   "outputs": [],
   "source": [
    "# Create a function to group customers by age range\n",
    "def age_range(age):\n",
    "    \n",
    "    if age < 20:\n",
    "        return '<20'\n",
    "    if age < 30:\n",
    "        return '20-29'\n",
    "    if age < 40:\n",
    "        return '30-39'\n",
    "    if age < 50:\n",
    "        return '40-49'\n",
    "    if age < 60:\n",
    "        return '50-59'\n",
    "    if age < 70:\n",
    "        return '60-69'\n",
    "    if age < 80:\n",
    "        return '70-79'\n",
    "    else:\n",
    "        return '80+'"
   ]
  },
  {
   "cell_type": "code",
   "execution_count": 24,
   "id": "e0ce048c",
   "metadata": {},
   "outputs": [],
   "source": [
    "df['agerange'] = df['age'].apply(age_range)"
   ]
  },
  {
   "cell_type": "code",
   "execution_count": 25,
   "id": "22f58dd2",
   "metadata": {},
   "outputs": [
    {
     "data": {
      "text/plain": [
       "<seaborn.axisgrid.FacetGrid at 0x7fdc33c136d0>"
      ]
     },
     "execution_count": 25,
     "metadata": {},
     "output_type": "execute_result"
    },
    {
     "data": {
      "image/png": "[encoded data removed]",
      "text/plain": [
       "<Figure size 785.125x360 with 1 Axes>"
      ]
     },
     "metadata": {
      "needs_background": "light"
     },
     "output_type": "display_data"
    }
   ],
   "source": [
    "#factorplot of transactions grouped by region and age range.\n",
    "sns.catplot(x='regionname', data=df, kind='count', hue='agerange', order=['North','South','East','West'],\n",
    "            hue_order=['<20','20-29','30-39','40-49','50-59','60-69','70-79','80+'], aspect=2)"
   ]
  },
  {
   "cell_type": "code",
   "execution_count": 26,
   "id": "11d734a1",
   "metadata": {},
   "outputs": [
    {
     "data": {
      "text/plain": [
       "<seaborn.axisgrid.FacetGrid at 0x7fdc4082bc70>"
      ]
     },
     "execution_count": 26,
     "metadata": {},
     "output_type": "execute_result"
    },
    {
     "data": {
      "image/png": "[encoded data removed]",
      "text/plain": [
       "<Figure size 785.125x360 with 1 Axes>"
      ]
     },
     "metadata": {
      "needs_background": "light"
     },
     "output_type": "display_data"
    }
   ],
   "source": [
    "#factorplot of transactions grouped by region and age range.\n",
    "sns.catplot(x='regionname', y='amount', data=df, kind='bar', hue='agerange', order=['North','South','East','West'],\n",
    "            hue_order=['<20','20-29','30-39','40-49','50-59','60-69','70-79','80+'], aspect=2)"
   ]
  },
  {
   "cell_type": "markdown",
   "id": "b15ab4ea",
   "metadata": {},
   "source": [
    "These two graphs show that the different regions have different age profiles. Also, the different age groups have different spending patterns."
   ]
  },
  {
   "cell_type": "code",
   "execution_count": 27,
   "id": "cef284ed",
   "metadata": {},
   "outputs": [
    {
     "data": {
      "text/plain": [
       "<seaborn.axisgrid.FacetGrid at 0x7fdc407eece0>"
      ]
     },
     "execution_count": 27,
     "metadata": {},
     "output_type": "execute_result"
    },
    {
     "data": {
      "image/png": "[encoded data removed]",
      "text/plain": [
       "<Figure size 785.125x360 with 1 Axes>"
      ]
     },
     "metadata": {
      "needs_background": "light"
     },
     "output_type": "display_data"
    }
   ],
   "source": [
    "#factorplot of transactions grouped by region and age range.\n",
    "sns.catplot(x='trantype', data=df, kind='count', hue='agerange', \n",
    "            hue_order=['<20','20-29','30-39','40-49','50-59','60-69','70-79','80+'], aspect=2)"
   ]
  },
  {
   "cell_type": "markdown",
   "id": "ff3f64fe",
   "metadata": {},
   "source": [
    "In this graph, we see the online transactions are evenly split among the 30-39, 40-49, and 50-59 age groups, while in-store sales are greatest in the 40-49 age group, followed by the 30-39 age group, thent the 20-29 age group."
   ]
  },
  {
   "cell_type": "code",
   "execution_count": 28,
   "id": "86706976",
   "metadata": {},
   "outputs": [
    {
     "data": {
      "text/plain": [
       "<seaborn.axisgrid.FacetGrid at 0x7fdc4083ce50>"
      ]
     },
     "execution_count": 28,
     "metadata": {},
     "output_type": "execute_result"
    },
    {
     "data": {
      "image/png": "[encoded data removed]",
      "text/plain": [
       "<Figure size 785.125x360 with 1 Axes>"
      ]
     },
     "metadata": {
      "needs_background": "light"
     },
     "output_type": "display_data"
    }
   ],
   "source": [
    "#factorplot of transactions grouped by region and age range.\n",
    "sns.catplot(x='trantype', y='amount', data=df, kind='bar', hue='agerange', \n",
    "            hue_order=['<20','20-29','30-39','40-49','50-59','60-69','70-79','80+'], aspect=2)"
   ]
  },
  {
   "cell_type": "markdown",
   "id": "9cf2b013",
   "metadata": {},
   "source": [
    "In this graph, we see that for both online and in-store transactions, the amount spent declines with age."
   ]
  },
  {
   "cell_type": "code",
   "execution_count": 29,
   "id": "b7a36b5b",
   "metadata": {},
   "outputs": [
    {
     "data": {
      "text/plain": [
       "<seaborn.axisgrid.FacetGrid at 0x7fdc341aea10>"
      ]
     },
     "execution_count": 29,
     "metadata": {},
     "output_type": "execute_result"
    },
    {
     "data": {
      "image/png": "[encoded data removed]",
      "text/plain": [
       "<Figure size 720x360 with 1 Axes>"
      ]
     },
     "metadata": {
      "needs_background": "light"
     },
     "output_type": "display_data"
    }
   ],
   "source": [
    "#factorplot of transactions grouped by region and age range.\n",
    "sns.catplot(x='agerange', y='amount', data=df, kind='bar',\n",
    "            order=['<20','20-29','30-39','40-49','50-59','60-69','70-79','80+'], aspect=2)"
   ]
  },
  {
   "cell_type": "markdown",
   "id": "609feb27",
   "metadata": {},
   "source": [
    "For all transactions, it appears that younger customers spend more."
   ]
  },
  {
   "cell_type": "markdown",
   "id": "fc38e334",
   "metadata": {},
   "source": [
    "### Is there a relationship between the number of items purchased and the amount spent?"
   ]
  },
  {
   "cell_type": "code",
   "execution_count": 30,
   "id": "05d18b57",
   "metadata": {},
   "outputs": [
    {
     "data": {
      "text/html": [
       "<div>\n",
       "<style scoped>\n",
       "    .dataframe tbody tr th:only-of-type {\n",
       "        vertical-align: middle;\n",
       "    }\n",
       "\n",
       "    .dataframe tbody tr th {\n",
       "        vertical-align: top;\n",
       "    }\n",
       "\n",
       "    .dataframe thead th {\n",
       "        text-align: right;\n",
       "    }\n",
       "</style>\n",
       "<table border=\"1\" class=\"dataframe\">\n",
       "  <thead>\n",
       "    <tr style=\"text-align: right;\">\n",
       "      <th></th>\n",
       "      <th>in-store</th>\n",
       "      <th>age</th>\n",
       "      <th>items</th>\n",
       "      <th>amount</th>\n",
       "      <th>region</th>\n",
       "    </tr>\n",
       "  </thead>\n",
       "  <tbody>\n",
       "    <tr>\n",
       "      <th>in-store</th>\n",
       "      <td>1.000000</td>\n",
       "      <td>-0.178180</td>\n",
       "      <td>-0.003897</td>\n",
       "      <td>-0.085573</td>\n",
       "      <td>-0.133171</td>\n",
       "    </tr>\n",
       "    <tr>\n",
       "      <th>age</th>\n",
       "      <td>-0.178180</td>\n",
       "      <td>1.000000</td>\n",
       "      <td>0.000657</td>\n",
       "      <td>-0.282033</td>\n",
       "      <td>-0.235370</td>\n",
       "    </tr>\n",
       "    <tr>\n",
       "      <th>items</th>\n",
       "      <td>-0.003897</td>\n",
       "      <td>0.000657</td>\n",
       "      <td>1.000000</td>\n",
       "      <td>0.000384</td>\n",
       "      <td>-0.001904</td>\n",
       "    </tr>\n",
       "    <tr>\n",
       "      <th>amount</th>\n",
       "      <td>-0.085573</td>\n",
       "      <td>-0.282033</td>\n",
       "      <td>0.000384</td>\n",
       "      <td>1.000000</td>\n",
       "      <td>0.403486</td>\n",
       "    </tr>\n",
       "    <tr>\n",
       "      <th>region</th>\n",
       "      <td>-0.133171</td>\n",
       "      <td>-0.235370</td>\n",
       "      <td>-0.001904</td>\n",
       "      <td>0.403486</td>\n",
       "      <td>1.000000</td>\n",
       "    </tr>\n",
       "  </tbody>\n",
       "</table>\n",
       "</div>"
      ],
      "text/plain": [
       "          in-store       age     items    amount    region\n",
       "in-store  1.000000 -0.178180 -0.003897 -0.085573 -0.133171\n",
       "age      -0.178180  1.000000  0.000657 -0.282033 -0.235370\n",
       "items    -0.003897  0.000657  1.000000  0.000384 -0.001904\n",
       "amount   -0.085573 -0.282033  0.000384  1.000000  0.403486\n",
       "region   -0.133171 -0.235370 -0.001904  0.403486  1.000000"
      ]
     },
     "execution_count": 30,
     "metadata": {},
     "output_type": "execute_result"
    }
   ],
   "source": [
    "# correlation matrix\n",
    "df.corr()"
   ]
  },
  {
   "cell_type": "code",
   "execution_count": 31,
   "id": "af134f29",
   "metadata": {},
   "outputs": [
    {
     "data": {
      "text/html": [
       "<div>\n",
       "<style scoped>\n",
       "    .dataframe tbody tr th:only-of-type {\n",
       "        vertical-align: middle;\n",
       "    }\n",
       "\n",
       "    .dataframe tbody tr th {\n",
       "        vertical-align: top;\n",
       "    }\n",
       "\n",
       "    .dataframe thead th {\n",
       "        text-align: right;\n",
       "    }\n",
       "</style>\n",
       "<table border=\"1\" class=\"dataframe\">\n",
       "  <thead>\n",
       "    <tr style=\"text-align: right;\">\n",
       "      <th></th>\n",
       "      <th>in-store</th>\n",
       "      <th>age</th>\n",
       "      <th>items</th>\n",
       "      <th>amount</th>\n",
       "      <th>region</th>\n",
       "    </tr>\n",
       "  </thead>\n",
       "  <tbody>\n",
       "    <tr>\n",
       "      <th>in-store</th>\n",
       "      <td>0.250003</td>\n",
       "      <td>-1.400071</td>\n",
       "      <td>-0.004017</td>\n",
       "      <td>-30.860425</td>\n",
       "      <td>-0.075019</td>\n",
       "    </tr>\n",
       "    <tr>\n",
       "      <th>age</th>\n",
       "      <td>-1.400071</td>\n",
       "      <td>246.966189</td>\n",
       "      <td>0.021270</td>\n",
       "      <td>-3196.782841</td>\n",
       "      <td>-4.167305</td>\n",
       "    </tr>\n",
       "    <tr>\n",
       "      <th>items</th>\n",
       "      <td>-0.004017</td>\n",
       "      <td>0.021270</td>\n",
       "      <td>4.248751</td>\n",
       "      <td>0.570791</td>\n",
       "      <td>-0.004421</td>\n",
       "    </tr>\n",
       "    <tr>\n",
       "      <th>amount</th>\n",
       "      <td>-30.860425</td>\n",
       "      <td>-3196.782841</td>\n",
       "      <td>0.570791</td>\n",
       "      <td>520221.252295</td>\n",
       "      <td>327.874873</td>\n",
       "    </tr>\n",
       "    <tr>\n",
       "      <th>region</th>\n",
       "      <td>-0.075019</td>\n",
       "      <td>-4.167305</td>\n",
       "      <td>-0.004421</td>\n",
       "      <td>327.874873</td>\n",
       "      <td>1.269321</td>\n",
       "    </tr>\n",
       "  </tbody>\n",
       "</table>\n",
       "</div>"
      ],
      "text/plain": [
       "           in-store          age     items         amount      region\n",
       "in-store   0.250003    -1.400071 -0.004017     -30.860425   -0.075019\n",
       "age       -1.400071   246.966189  0.021270   -3196.782841   -4.167305\n",
       "items     -0.004017     0.021270  4.248751       0.570791   -0.004421\n",
       "amount   -30.860425 -3196.782841  0.570791  520221.252295  327.874873\n",
       "region    -0.075019    -4.167305 -0.004421     327.874873    1.269321"
      ]
     },
     "execution_count": 31,
     "metadata": {},
     "output_type": "execute_result"
    }
   ],
   "source": [
    "# covariance matrix\n",
    "df.cov()"
   ]
  },
  {
   "cell_type": "markdown",
   "id": "6eb19581",
   "metadata": {},
   "source": [
    "There is both a positive correlation between items and amount, and a positive covariance between items and amount, indicating that a relationship likely exists between the number of items purchased and the amount spent."
   ]
  },
  {
   "cell_type": "code",
   "execution_count": 32,
   "id": "ee9fee94",
   "metadata": {
    "scrolled": false
   },
   "outputs": [
    {
     "data": {
      "text/plain": [
       "[<matplotlib.lines.Line2D at 0x7fdc127ddde0>]"
      ]
     },
     "execution_count": 32,
     "metadata": {},
     "output_type": "execute_result"
    },
    {
     "data": {
      "image/png": "[encoded data removed]",
      "text/plain": [
       "<Figure size 720x576 with 1 Axes>"
      ]
     },
     "metadata": {
      "needs_background": "light"
     },
     "output_type": "display_data"
    }
   ],
   "source": [
    "# creating a scatter plot of 10000 observations from the dataframe\n",
    "df_sample = df.sample(50000)\n",
    "\n",
    "x = df_sample['items']\n",
    "y = df_sample['amount']\n",
    "\n",
    "plt.scatter(x,y,marker='o')\n",
    "\n",
    "# creating m (slope) and b (intercept) of linear regression line\n",
    "m, b = np.polyfit(x, y, 1)\n",
    "\n",
    "# scatter plot with linear regression line\n",
    "plt.plot(x, m*x+b)"
   ]
  },
  {
   "cell_type": "code",
   "execution_count": 33,
   "id": "c5c38156",
   "metadata": {},
   "outputs": [
    {
     "data": {
      "text/plain": [
       "-0.8448995542054369"
      ]
     },
     "execution_count": 33,
     "metadata": {},
     "output_type": "execute_result"
    }
   ],
   "source": [
    "m"
   ]
  },
  {
   "cell_type": "markdown",
   "id": "f8c2504a",
   "metadata": {},
   "source": [
    "Although there is a positive covariance, and the slope is positive, the increase in the total amount as items purchased is really insignificant."
   ]
  },
  {
   "cell_type": "code",
   "execution_count": 34,
   "id": "b3422e34",
   "metadata": {},
   "outputs": [
    {
     "data": {
      "image/png": "[encoded data removed]",
      "text/plain": [
       "<Figure size 630x360 with 1 Axes>"
      ]
     },
     "metadata": {
      "needs_background": "light"
     },
     "output_type": "display_data"
    }
   ],
   "source": [
    "# catplot showing the mean amount for each count of items\n",
    "g = sns.catplot(x='items', y='amount', data=df, kind='bar', aspect = 1.75)"
   ]
  },
  {
   "cell_type": "code",
   "execution_count": 35,
   "id": "f08167eb",
   "metadata": {},
   "outputs": [
    {
     "data": {
      "text/plain": [
       "<seaborn.axisgrid.FacetGrid at 0x7fdc341af550>"
      ]
     },
     "execution_count": 35,
     "metadata": {},
     "output_type": "execute_result"
    },
    {
     "data": {
      "image/png": "[encoded data removed]",
      "text/plain": [
       "<Figure size 360x360 with 1 Axes>"
      ]
     },
     "metadata": {
      "needs_background": "light"
     },
     "output_type": "display_data"
    }
   ],
   "source": [
    "# box plot showing the plot of amount for each count of items purchased\n",
    "sns.catplot(x='items', y='amount', data=df, kind='box')"
   ]
  },
  {
   "cell_type": "markdown",
   "id": "3380bc54",
   "metadata": {},
   "source": [
    "In both plots, we see the mean amount purchased per item purchased is about the same. The interquartile ranges for each item are similar as well. "
   ]
  },
  {
   "cell_type": "code",
   "execution_count": 36,
   "id": "b5d4b0bc",
   "metadata": {},
   "outputs": [
    {
     "name": "stderr",
     "output_type": "stream",
     "text": [
      "/Users/thomashigginbotham/opt/anaconda3/envs/Course1env/lib/python3.10/site-packages/seaborn/distributions.py:2619: FutureWarning: `distplot` is a deprecated function and will be removed in a future version. Please adapt your code to use either `displot` (a figure-level function with similar flexibility) or `histplot` (an axes-level function for histograms).\n",
      "  warnings.warn(msg, FutureWarning)\n"
     ]
    },
    {
     "data": {
      "text/plain": [
       "Text(0.5, 1.0, 'Distribution of Number of Items Purchased')"
      ]
     },
     "execution_count": 36,
     "metadata": {},
     "output_type": "execute_result"
    },
    {
     "data": {
      "image/png": "[encoded data removed]",
      "text/plain": [
       "<Figure size 720x576 with 1 Axes>"
      ]
     },
     "metadata": {
      "needs_background": "light"
     },
     "output_type": "display_data"
    }
   ],
   "source": [
    "items_dist = sns.distplot(df['items'])\n",
    "items_dist.set_title('Distribution of Number of Items Purchased')"
   ]
  },
  {
   "cell_type": "markdown",
   "id": "7ffedb98",
   "metadata": {},
   "source": [
    "The number of items purchased is spread pretty evenly from 2-6, lower for 1 and 8."
   ]
  },
  {
   "cell_type": "code",
   "execution_count": 37,
   "id": "c658050d",
   "metadata": {},
   "outputs": [
    {
     "name": "stderr",
     "output_type": "stream",
     "text": [
      "/Users/thomashigginbotham/opt/anaconda3/envs/Course1env/lib/python3.10/site-packages/seaborn/distributions.py:2619: FutureWarning: `distplot` is a deprecated function and will be removed in a future version. Please adapt your code to use either `displot` (a figure-level function with similar flexibility) or `histplot` (an axes-level function for histograms).\n",
      "  warnings.warn(msg, FutureWarning)\n"
     ]
    },
    {
     "data": {
      "text/plain": [
       "Text(0.5, 1.0, 'Distribution of Amount Purchased')"
      ]
     },
     "execution_count": 37,
     "metadata": {},
     "output_type": "execute_result"
    },
    {
     "data": {
      "image/png": "[encoded data removed]",
      "text/plain": [
       "<Figure size 720x576 with 1 Axes>"
      ]
     },
     "metadata": {
      "needs_background": "light"
     },
     "output_type": "display_data"
    }
   ],
   "source": [
    "amount_dist = sns.distplot(df['amount'])\n",
    "amount_dist.set_title('Distribution of Amount Purchased')"
   ]
  },
  {
   "cell_type": "markdown",
   "id": "2c34d158",
   "metadata": {},
   "source": [
    "Transactions are most commonly under \\\\$500 total, followed by transactions under \\\\$1000, then under \\\\$2000"
   ]
  },
  {
   "cell_type": "code",
   "execution_count": 38,
   "id": "b89ef966",
   "metadata": {},
   "outputs": [
    {
     "data": {
      "text/plain": [
       "<seaborn.axisgrid.FacetGrid at 0x7fdc1186f100>"
      ]
     },
     "execution_count": 38,
     "metadata": {},
     "output_type": "execute_result"
    },
    {
     "data": {
      "image/png": "[encoded data removed]",
      "text/plain": [
       "<Figure size 785.125x360 with 1 Axes>"
      ]
     },
     "metadata": {
      "needs_background": "light"
     },
     "output_type": "display_data"
    }
   ],
   "source": [
    "#factorplot of transactions grouped by region and age range.\n",
    "sns.catplot(x='items', data=df, kind='count', hue='agerange', order=range(1,9),\n",
    "            hue_order=['<20','20-29','30-39','40-49','50-59','60-69','70-79','80+'], aspect=2)"
   ]
  },
  {
   "cell_type": "markdown",
   "id": "7600ded6",
   "metadata": {},
   "source": [
    "The age breakout per item purchased is similar for 2-7 items"
   ]
  },
  {
   "cell_type": "code",
   "execution_count": 39,
   "id": "e40efe1a",
   "metadata": {},
   "outputs": [
    {
     "data": {
      "text/plain": [
       "<seaborn.axisgrid.FacetGrid at 0x7fdc20ec5c30>"
      ]
     },
     "execution_count": 39,
     "metadata": {},
     "output_type": "execute_result"
    },
    {
     "data": {
      "image/png": "[encoded data removed]",
      "text/plain": [
       "<Figure size 785.125x360 with 1 Axes>"
      ]
     },
     "metadata": {
      "needs_background": "light"
     },
     "output_type": "display_data"
    }
   ],
   "source": [
    "#factorplot of transactions grouped by region and age range.\n",
    "sns.catplot(x='items', y='amount', data=df, kind='bar', hue='agerange', order=range(1,9),\n",
    "            hue_order=['<20','20-29','30-39','40-49','50-59','60-69','70-79','80+'], aspect=2)"
   ]
  },
  {
   "cell_type": "markdown",
   "id": "a71a9593",
   "metadata": {},
   "source": [
    "The age breakout for the total amount purchased per item is also very similar for all items."
   ]
  },
  {
   "cell_type": "markdown",
   "id": "ac51b85d",
   "metadata": {},
   "source": [
    "### Conclusion"
   ]
  },
  {
   "cell_type": "markdown",
   "id": "8e0211fa",
   "metadata": {},
   "source": [
    "Even though customers in different regions tend to spend different amounts, that likely is due to the difference in the transaction mixes per regon between online and in-store, along with the demographic differences in customer ages for each region.\n",
    "\n",
    "There may be a very weak relationship between the number of items and total amount purchased, but it appears to be insignificant."
   ]
  },
  {
   "cell_type": "code",
   "execution_count": 40,
   "id": "bcf9894a",
   "metadata": {},
   "outputs": [],
   "source": [
    "df.to_csv('Demographic_Data_Clean.csv',index='false')"
   ]
  },
  {
   "cell_type": "code",
   "execution_count": null,
   "id": "0bc8a9d7",
   "metadata": {},
   "outputs": [],
   "source": []
  }
 ],
 "metadata": {
  "kernelspec": {
   "display_name": "Python3 (Course 1)",
   "language": "python",
   "name": "course1k"
  },
  "language_info": {
   "codemirror_mode": {
    "name": "ipython",
    "version": 3
   },
   "file_extension": ".py",
   "mimetype": "text/x-python",
   "name": "python",
   "nbconvert_exporter": "python",
   "pygments_lexer": "ipython3",
   "version": "3.10.4"
  }
 },
 "nbformat": 4,
 "nbformat_minor": 5
}
