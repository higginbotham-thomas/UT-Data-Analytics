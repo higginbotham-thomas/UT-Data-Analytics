{
 "cells": [
  {
   "cell_type": "markdown",
   "id": "518179bf",
   "metadata": {},
   "source": [
    "# Import Libraries"
   ]
  },
  {
   "cell_type": "code",
   "execution_count": 437,
   "id": "dc9bfaf4",
   "metadata": {},
   "outputs": [],
   "source": [
    "import numpy as np\n",
    "import pandas as pd\n",
    "from pandas import Series, DataFrame\n",
    "import matplotlib as mpl\n",
    "import matplotlib.pyplot as plt\n",
    "import matplotlib.pylab as plt\n",
    "import seaborn as sns \n",
    "%matplotlib inline\n",
    "\n",
    "# Set default matplot figure size\n",
    "plt.rcParams['figure.figsize'] = (10.0, 8.0)"
   ]
  },
  {
   "cell_type": "markdown",
   "id": "f06086ec",
   "metadata": {},
   "source": [
    "# Reading Data Set Using Pandas"
   ]
  },
  {
   "cell_type": "code",
   "execution_count": 438,
   "id": "84d150f0",
   "metadata": {},
   "outputs": [],
   "source": [
    "demodata_df = pd.read_csv('demographic_data.csv')"
   ]
  },
  {
   "cell_type": "markdown",
   "id": "72f57239",
   "metadata": {},
   "source": [
    "# Analysis"
   ]
  },
  {
   "cell_type": "code",
   "execution_count": 439,
   "id": "269cff8a",
   "metadata": {},
   "outputs": [
    {
     "data": {
      "text/html": [
       "<div>\n",
       "<style scoped>\n",
       "    .dataframe tbody tr th:only-of-type {\n",
       "        vertical-align: middle;\n",
       "    }\n",
       "\n",
       "    .dataframe tbody tr th {\n",
       "        vertical-align: top;\n",
       "    }\n",
       "\n",
       "    .dataframe thead th {\n",
       "        text-align: right;\n",
       "    }\n",
       "</style>\n",
       "<table border=\"1\" class=\"dataframe\">\n",
       "  <thead>\n",
       "    <tr style=\"text-align: right;\">\n",
       "      <th></th>\n",
       "      <th>in-store</th>\n",
       "      <th>age</th>\n",
       "      <th>items</th>\n",
       "      <th>amount</th>\n",
       "      <th>region</th>\n",
       "    </tr>\n",
       "  </thead>\n",
       "  <tbody>\n",
       "    <tr>\n",
       "      <th>0</th>\n",
       "      <td>0</td>\n",
       "      <td>37</td>\n",
       "      <td>4</td>\n",
       "      <td>281.03</td>\n",
       "      <td>2</td>\n",
       "    </tr>\n",
       "    <tr>\n",
       "      <th>1</th>\n",
       "      <td>0</td>\n",
       "      <td>35</td>\n",
       "      <td>2</td>\n",
       "      <td>219.51</td>\n",
       "      <td>2</td>\n",
       "    </tr>\n",
       "    <tr>\n",
       "      <th>2</th>\n",
       "      <td>1</td>\n",
       "      <td>45</td>\n",
       "      <td>3</td>\n",
       "      <td>1525.70</td>\n",
       "      <td>4</td>\n",
       "    </tr>\n",
       "    <tr>\n",
       "      <th>3</th>\n",
       "      <td>1</td>\n",
       "      <td>46</td>\n",
       "      <td>3</td>\n",
       "      <td>715.25</td>\n",
       "      <td>3</td>\n",
       "    </tr>\n",
       "    <tr>\n",
       "      <th>4</th>\n",
       "      <td>1</td>\n",
       "      <td>33</td>\n",
       "      <td>4</td>\n",
       "      <td>1937.50</td>\n",
       "      <td>1</td>\n",
       "    </tr>\n",
       "  </tbody>\n",
       "</table>\n",
       "</div>"
      ],
      "text/plain": [
       "   in-store  age  items   amount  region\n",
       "0         0   37      4   281.03       2\n",
       "1         0   35      2   219.51       2\n",
       "2         1   45      3  1525.70       4\n",
       "3         1   46      3   715.25       3\n",
       "4         1   33      4  1937.50       1"
      ]
     },
     "execution_count": 439,
     "metadata": {},
     "output_type": "execute_result"
    }
   ],
   "source": [
    "# Check the first 5 rows of the data frame\n",
    "demodata_df.head()"
   ]
  },
  {
   "cell_type": "code",
   "execution_count": 440,
   "id": "1d3a390d",
   "metadata": {},
   "outputs": [
    {
     "data": {
      "text/plain": [
       "Index(['in-store', 'age', 'items', 'amount', 'region'], dtype='object')"
      ]
     },
     "execution_count": 440,
     "metadata": {},
     "output_type": "execute_result"
    }
   ],
   "source": [
    "# Column names\n",
    "demodata_df.columns"
   ]
  },
  {
   "cell_type": "code",
   "execution_count": 441,
   "id": "8ccde40b",
   "metadata": {},
   "outputs": [
    {
     "name": "stdout",
     "output_type": "stream",
     "text": [
      "<class 'pandas.core.frame.DataFrame'>\n",
      "RangeIndex: 80000 entries, 0 to 79999\n",
      "Data columns (total 5 columns):\n",
      " #   Column    Non-Null Count  Dtype  \n",
      "---  ------    --------------  -----  \n",
      " 0   in-store  80000 non-null  int64  \n",
      " 1   age       80000 non-null  int64  \n",
      " 2   items     80000 non-null  int64  \n",
      " 3   amount    80000 non-null  float64\n",
      " 4   region    80000 non-null  int64  \n",
      "dtypes: float64(1), int64(4)\n",
      "memory usage: 3.1 MB\n"
     ]
    }
   ],
   "source": [
    "# Information about the data set\n",
    "demodata_df.info()"
   ]
  },
  {
   "cell_type": "code",
   "execution_count": 442,
   "id": "f765e5de",
   "metadata": {},
   "outputs": [],
   "source": [
    "# Drop duplicates\n",
    "demodata_df = demodata_df.drop_duplicates()"
   ]
  },
  {
   "cell_type": "code",
   "execution_count": 443,
   "id": "97dc7ec8",
   "metadata": {},
   "outputs": [],
   "source": [
    "# Replace numeric codes for in-store and region with descriptive labels\n",
    "demodata_df.loc[demodata_df['in-store'] == 1, 'trantype'] = 'in-store'\n",
    "demodata_df.loc[demodata_df['in-store'] == 0, 'trantype'] = 'online'\n",
    "\n",
    "demodata_df.loc[demodata_df['region'] == 1, 'regionname'] = 'North'\n",
    "demodata_df.loc[demodata_df['region'] == 2, 'regionname'] = 'South'\n",
    "demodata_df.loc[demodata_df['region'] == 3, 'regionname'] = 'East'\n",
    "demodata_df.loc[demodata_df['region'] == 4, 'regionname'] = 'West'"
   ]
  },
  {
   "cell_type": "code",
   "execution_count": 444,
   "id": "749ee672",
   "metadata": {},
   "outputs": [
    {
     "data": {
      "text/plain": [
       "trantype\n",
       "in-store    39990\n",
       "online      39989\n",
       "Name: trantype, dtype: int64"
      ]
     },
     "execution_count": 444,
     "metadata": {},
     "output_type": "execute_result"
    }
   ],
   "source": [
    "# Number of transactions for in-store and online\n",
    "demodata_df.groupby('trantype')['trantype'].count()"
   ]
  },
  {
   "cell_type": "code",
   "execution_count": 445,
   "id": "21458659",
   "metadata": {},
   "outputs": [
    {
     "data": {
      "text/plain": [
       "<seaborn.axisgrid.FacetGrid at 0x2388c4b7130>"
      ]
     },
     "execution_count": 445,
     "metadata": {},
     "output_type": "execute_result"
    },
    {
     "data": {
      "image/png": "[encoded data removed]",
      "text/plain": [
       "<Figure size 540x360 with 1 Axes>"
      ]
     },
     "metadata": {
      "needs_background": "light"
     },
     "output_type": "display_data"
    }
   ],
   "source": [
    "# Instead of a group by, use seaborn to plot the count of passengers in each class\n",
    "fg = sns.catplot(x='trantype', data=demodata_df, kind='count', aspect=1.5)\n",
    "fg.set_xlabels('transaction type')"
   ]
  },
  {
   "cell_type": "markdown",
   "id": "70e06952",
   "metadata": {},
   "source": [
    "As shown in the figure above, there are approximately the same number of in-store and online transactions."
   ]
  },
  {
   "cell_type": "code",
   "execution_count": 446,
   "id": "9e3b4ee7",
   "metadata": {},
   "outputs": [
    {
     "data": {
      "text/plain": [
       "regionname  trantype\n",
       "East        in-store    10999\n",
       "            online       7001\n",
       "North       in-store    15997\n",
       "South       online      19994\n",
       "West        in-store    12994\n",
       "            online      12994\n",
       "Name: region, dtype: int64"
      ]
     },
     "execution_count": 446,
     "metadata": {},
     "output_type": "execute_result"
    }
   ],
   "source": [
    "# Number of transactions per region, grouped by online or in-store\n",
    "demodata_df.groupby(['regionname','trantype'])['region'].count()"
   ]
  },
  {
   "cell_type": "code",
   "execution_count": 447,
   "id": "c64809b1",
   "metadata": {
    "scrolled": true
   },
   "outputs": [
    {
     "data": {
      "image/png": "[encoded data removed]",
      "text/plain": [
       "<Figure size 704x360 with 1 Axes>"
      ]
     },
     "metadata": {
      "needs_background": "light"
     },
     "output_type": "display_data"
    }
   ],
   "source": [
    "# Use seaborn to group by region and in-store\n",
    "g = sns.catplot(x='regionname', data=demodata_df, hue='trantype', kind='count', aspect=1.75, order=['North','South','East','West'])"
   ]
  },
  {
   "cell_type": "markdown",
   "id": "bc229060",
   "metadata": {},
   "source": [
    "As shown in the figure above, North region does not have online transactions, and the South region does \n",
    "not have in-store transactions. The East region has more in-store than online transactions, and The West region \n",
    "has the same number of in-store and online transactions."
   ]
  },
  {
   "cell_type": "code",
   "execution_count": 448,
   "id": "a2b1617b",
   "metadata": {},
   "outputs": [],
   "source": [
    "east = demodata_df[demodata_df['regionname']=='East']"
   ]
  },
  {
   "cell_type": "code",
   "execution_count": 449,
   "id": "d6af5bbb",
   "metadata": {},
   "outputs": [
    {
     "data": {
      "text/plain": [
       "<seaborn.axisgrid.FacetGrid at 0x2388c672e30>"
      ]
     },
     "execution_count": 449,
     "metadata": {},
     "output_type": "execute_result"
    },
    {
     "data": {
      "image/png": "[encoded data removed]",
      "text/plain": [
       "<Figure size 360x360 with 1 Axes>"
      ]
     },
     "metadata": {
      "needs_background": "light"
     },
     "output_type": "display_data"
    }
   ],
   "source": [
    "# Factor plot of total transactions by region\n",
    "sns.catplot(x='regionname', data=demodata_df, kind='count', order=['North','South','East','West'])"
   ]
  },
  {
   "cell_type": "code",
   "execution_count": 450,
   "id": "4764e3e6",
   "metadata": {},
   "outputs": [
    {
     "data": {
      "text/plain": [
       "18000"
      ]
     },
     "execution_count": 450,
     "metadata": {},
     "output_type": "execute_result"
    }
   ],
   "source": [
    "# Total number of East region transactions\n",
    "len(east)"
   ]
  },
  {
   "cell_type": "code",
   "execution_count": 451,
   "id": "44a99960",
   "metadata": {},
   "outputs": [
    {
     "data": {
      "text/html": [
       "<div>\n",
       "<style scoped>\n",
       "    .dataframe tbody tr th:only-of-type {\n",
       "        vertical-align: middle;\n",
       "    }\n",
       "\n",
       "    .dataframe tbody tr th {\n",
       "        vertical-align: top;\n",
       "    }\n",
       "\n",
       "    .dataframe thead th {\n",
       "        text-align: right;\n",
       "    }\n",
       "</style>\n",
       "<table border=\"1\" class=\"dataframe\">\n",
       "  <thead>\n",
       "    <tr style=\"text-align: right;\">\n",
       "      <th>trantype</th>\n",
       "      <th>in-store</th>\n",
       "      <th>online</th>\n",
       "      <th>All</th>\n",
       "    </tr>\n",
       "    <tr>\n",
       "      <th>items</th>\n",
       "      <th></th>\n",
       "      <th></th>\n",
       "      <th></th>\n",
       "    </tr>\n",
       "  </thead>\n",
       "  <tbody>\n",
       "    <tr>\n",
       "      <th>1</th>\n",
       "      <td>787</td>\n",
       "      <td>473</td>\n",
       "      <td>1260</td>\n",
       "    </tr>\n",
       "    <tr>\n",
       "      <th>2</th>\n",
       "      <td>1553</td>\n",
       "      <td>1023</td>\n",
       "      <td>2576</td>\n",
       "    </tr>\n",
       "    <tr>\n",
       "      <th>3</th>\n",
       "      <td>1583</td>\n",
       "      <td>1016</td>\n",
       "      <td>2599</td>\n",
       "    </tr>\n",
       "    <tr>\n",
       "      <th>4</th>\n",
       "      <td>1630</td>\n",
       "      <td>1045</td>\n",
       "      <td>2675</td>\n",
       "    </tr>\n",
       "    <tr>\n",
       "      <th>5</th>\n",
       "      <td>1563</td>\n",
       "      <td>950</td>\n",
       "      <td>2513</td>\n",
       "    </tr>\n",
       "    <tr>\n",
       "      <th>6</th>\n",
       "      <td>1551</td>\n",
       "      <td>964</td>\n",
       "      <td>2515</td>\n",
       "    </tr>\n",
       "    <tr>\n",
       "      <th>7</th>\n",
       "      <td>1562</td>\n",
       "      <td>1006</td>\n",
       "      <td>2568</td>\n",
       "    </tr>\n",
       "    <tr>\n",
       "      <th>8</th>\n",
       "      <td>770</td>\n",
       "      <td>524</td>\n",
       "      <td>1294</td>\n",
       "    </tr>\n",
       "    <tr>\n",
       "      <th>All</th>\n",
       "      <td>10999</td>\n",
       "      <td>7001</td>\n",
       "      <td>18000</td>\n",
       "    </tr>\n",
       "  </tbody>\n",
       "</table>\n",
       "</div>"
      ],
      "text/plain": [
       "trantype  in-store  online    All\n",
       "items                            \n",
       "1              787     473   1260\n",
       "2             1553    1023   2576\n",
       "3             1583    1016   2599\n",
       "4             1630    1045   2675\n",
       "5             1563     950   2513\n",
       "6             1551     964   2515\n",
       "7             1562    1006   2568\n",
       "8              770     524   1294\n",
       "All          10999    7001  18000"
      ]
     },
     "execution_count": 451,
     "metadata": {},
     "output_type": "execute_result"
    }
   ],
   "source": [
    "# number east region transactions grouped by transaction type and number of items\n",
    "east.pivot_table('amount','items','trantype', aggfunc=len, margins=True)"
   ]
  },
  {
   "cell_type": "code",
   "execution_count": 452,
   "id": "dabe04e6",
   "metadata": {},
   "outputs": [],
   "source": [
    "# Items grouped by region, number of items purchased and amount spent\n",
    "table = pd.crosstab(index=demodata_df.age, columns = [demodata_df.region, demodata_df.trantype], values = demodata_df.amount, aggfunc = 'mean')"
   ]
  },
  {
   "cell_type": "code",
   "execution_count": 453,
   "id": "176061f1",
   "metadata": {},
   "outputs": [
    {
     "data": {
      "text/plain": [
       "region  trantype  age\n",
       "1       in-store  18             NaN\n",
       "                  19      927.781981\n",
       "                  20     1044.638263\n",
       "                  21     1069.238243\n",
       "                  22     1023.570522\n",
       "                            ...     \n",
       "4       online    81             NaN\n",
       "                  82             NaN\n",
       "                  83             NaN\n",
       "                  84             NaN\n",
       "                  85             NaN\n",
       "Length: 408, dtype: float64"
      ]
     },
     "execution_count": 453,
     "metadata": {},
     "output_type": "execute_result"
    }
   ],
   "source": [
    "table.unstack()"
   ]
  },
  {
   "cell_type": "code",
   "execution_count": 454,
   "id": "41268731",
   "metadata": {},
   "outputs": [
    {
     "name": "stdout",
     "output_type": "stream",
     "text": [
      "Average and median age of customers are 46 and 45 years old, respectively\n"
     ]
    }
   ],
   "source": [
    "print('Average and median age of customers are %0.f and %0.f years old, respectively'%(demodata_df.age.mean(),demodata_df.age.median()))"
   ]
  },
  {
   "cell_type": "code",
   "execution_count": 455,
   "id": "8bfc2cf0",
   "metadata": {},
   "outputs": [
    {
     "data": {
      "text/plain": [
       "count    79979.000000\n",
       "mean        45.758512\n",
       "std         15.715158\n",
       "min         18.000000\n",
       "25%         33.000000\n",
       "50%         45.000000\n",
       "75%         56.000000\n",
       "max         85.000000\n",
       "Name: age, dtype: float64"
      ]
     },
     "execution_count": 455,
     "metadata": {},
     "output_type": "execute_result"
    }
   ],
   "source": [
    "demodata_df.age.describe()"
   ]
  },
  {
   "cell_type": "code",
   "execution_count": 456,
   "id": "4d4909e8",
   "metadata": {},
   "outputs": [],
   "source": [
    "# Drop missing values for the records in which age is missing\n",
    "age = demodata_df['age'].dropna()"
   ]
  },
  {
   "cell_type": "code",
   "execution_count": 457,
   "id": "c8a152b4",
   "metadata": {},
   "outputs": [
    {
     "name": "stderr",
     "output_type": "stream",
     "text": [
      "C:\\Users\\higgi\\.conda\\envs\\course1\\lib\\site-packages\\seaborn\\distributions.py:2619: FutureWarning: `distplot` is a deprecated function and will be removed in a future version. Please adapt your code to use either `displot` (a figure-level function with similar flexibility) or `histplot` (an axes-level function for histograms).\n",
      "  warnings.warn(msg, FutureWarning)\n"
     ]
    },
    {
     "data": {
      "text/plain": [
       "Text(0.5, 1.0, \"Distribution of Customers' Ages\")"
      ]
     },
     "execution_count": 457,
     "metadata": {},
     "output_type": "execute_result"
    },
    {
     "data": {
      "image/png": "[encoded data removed]",
      "text/plain": [
       "<Figure size 720x576 with 1 Axes>"
      ]
     },
     "metadata": {
      "needs_background": "light"
     },
     "output_type": "display_data"
    }
   ],
   "source": [
    "# Distribution of age, with an overlay of a density plot\n",
    "age_dist = sns.distplot(age)\n",
    "age_dist.set_title(\"Distribution of Customers' Ages\")"
   ]
  },
  {
   "cell_type": "code",
   "execution_count": 458,
   "id": "4fea41d3",
   "metadata": {},
   "outputs": [
    {
     "data": {
      "text/plain": [
       "<AxesSubplot:>"
      ]
     },
     "execution_count": 458,
     "metadata": {},
     "output_type": "execute_result"
    },
    {
     "data": {
      "image/png": "[encoded data removed]",
      "text/plain": [
       "<Figure size 720x576 with 1 Axes>"
      ]
     },
     "metadata": {
      "needs_background": "light"
     },
     "output_type": "display_data"
    }
   ],
   "source": [
    "# Another way to plot a histogram of ages is shown below\n",
    "demodata_df['age'].hist(bins=50)"
   ]
  },
  {
   "cell_type": "code",
   "execution_count": 459,
   "id": "eb33eca8",
   "metadata": {},
   "outputs": [],
   "source": [
    "# Create a function to group customers by age range\n",
    "def age_range(age):\n",
    "    \n",
    "    if age < 20:\n",
    "        return '<20'\n",
    "    if age < 30:\n",
    "        return '20-29'\n",
    "    if age < 40:\n",
    "        return '30-39'\n",
    "    if age < 50:\n",
    "        return '40-49'\n",
    "    if age < 60:\n",
    "        return '50-59'\n",
    "    if age < 70:\n",
    "        return '60-69'\n",
    "    if age < 80:\n",
    "        return '70-79'\n",
    "    else:\n",
    "        return '80+'"
   ]
  },
  {
   "cell_type": "code",
   "execution_count": 460,
   "id": "d8d05c4a",
   "metadata": {},
   "outputs": [],
   "source": [
    "demodata_df['agerange'] = demodata_df['age'].apply(age_range)"
   ]
  },
  {
   "cell_type": "code",
   "execution_count": 461,
   "id": "17acd870",
   "metadata": {},
   "outputs": [
    {
     "data": {
      "text/html": [
       "<div>\n",
       "<style scoped>\n",
       "    .dataframe tbody tr th:only-of-type {\n",
       "        vertical-align: middle;\n",
       "    }\n",
       "\n",
       "    .dataframe tbody tr th {\n",
       "        vertical-align: top;\n",
       "    }\n",
       "\n",
       "    .dataframe thead th {\n",
       "        text-align: right;\n",
       "    }\n",
       "</style>\n",
       "<table border=\"1\" class=\"dataframe\">\n",
       "  <thead>\n",
       "    <tr style=\"text-align: right;\">\n",
       "      <th></th>\n",
       "      <th>in-store</th>\n",
       "      <th>age</th>\n",
       "      <th>items</th>\n",
       "      <th>amount</th>\n",
       "      <th>region</th>\n",
       "      <th>trantype</th>\n",
       "      <th>regionname</th>\n",
       "      <th>agerange</th>\n",
       "    </tr>\n",
       "  </thead>\n",
       "  <tbody>\n",
       "    <tr>\n",
       "      <th>0</th>\n",
       "      <td>0</td>\n",
       "      <td>37</td>\n",
       "      <td>4</td>\n",
       "      <td>281.0300</td>\n",
       "      <td>2</td>\n",
       "      <td>online</td>\n",
       "      <td>South</td>\n",
       "      <td>30-39</td>\n",
       "    </tr>\n",
       "    <tr>\n",
       "      <th>1</th>\n",
       "      <td>0</td>\n",
       "      <td>35</td>\n",
       "      <td>2</td>\n",
       "      <td>219.5100</td>\n",
       "      <td>2</td>\n",
       "      <td>online</td>\n",
       "      <td>South</td>\n",
       "      <td>30-39</td>\n",
       "    </tr>\n",
       "    <tr>\n",
       "      <th>2</th>\n",
       "      <td>1</td>\n",
       "      <td>45</td>\n",
       "      <td>3</td>\n",
       "      <td>1525.7000</td>\n",
       "      <td>4</td>\n",
       "      <td>in-store</td>\n",
       "      <td>West</td>\n",
       "      <td>40-49</td>\n",
       "    </tr>\n",
       "    <tr>\n",
       "      <th>3</th>\n",
       "      <td>1</td>\n",
       "      <td>46</td>\n",
       "      <td>3</td>\n",
       "      <td>715.2500</td>\n",
       "      <td>3</td>\n",
       "      <td>in-store</td>\n",
       "      <td>East</td>\n",
       "      <td>40-49</td>\n",
       "    </tr>\n",
       "    <tr>\n",
       "      <th>4</th>\n",
       "      <td>1</td>\n",
       "      <td>33</td>\n",
       "      <td>4</td>\n",
       "      <td>1937.5000</td>\n",
       "      <td>1</td>\n",
       "      <td>in-store</td>\n",
       "      <td>North</td>\n",
       "      <td>30-39</td>\n",
       "    </tr>\n",
       "    <tr>\n",
       "      <th>5</th>\n",
       "      <td>0</td>\n",
       "      <td>24</td>\n",
       "      <td>3</td>\n",
       "      <td>1314.2000</td>\n",
       "      <td>4</td>\n",
       "      <td>online</td>\n",
       "      <td>West</td>\n",
       "      <td>20-29</td>\n",
       "    </tr>\n",
       "    <tr>\n",
       "      <th>6</th>\n",
       "      <td>0</td>\n",
       "      <td>43</td>\n",
       "      <td>6</td>\n",
       "      <td>8.5472</td>\n",
       "      <td>2</td>\n",
       "      <td>online</td>\n",
       "      <td>South</td>\n",
       "      <td>40-49</td>\n",
       "    </tr>\n",
       "    <tr>\n",
       "      <th>7</th>\n",
       "      <td>1</td>\n",
       "      <td>66</td>\n",
       "      <td>5</td>\n",
       "      <td>819.9800</td>\n",
       "      <td>3</td>\n",
       "      <td>in-store</td>\n",
       "      <td>East</td>\n",
       "      <td>60-69</td>\n",
       "    </tr>\n",
       "    <tr>\n",
       "      <th>8</th>\n",
       "      <td>1</td>\n",
       "      <td>51</td>\n",
       "      <td>5</td>\n",
       "      <td>908.3100</td>\n",
       "      <td>1</td>\n",
       "      <td>in-store</td>\n",
       "      <td>North</td>\n",
       "      <td>50-59</td>\n",
       "    </tr>\n",
       "    <tr>\n",
       "      <th>9</th>\n",
       "      <td>1</td>\n",
       "      <td>47</td>\n",
       "      <td>3</td>\n",
       "      <td>767.5400</td>\n",
       "      <td>1</td>\n",
       "      <td>in-store</td>\n",
       "      <td>North</td>\n",
       "      <td>40-49</td>\n",
       "    </tr>\n",
       "  </tbody>\n",
       "</table>\n",
       "</div>"
      ],
      "text/plain": [
       "   in-store  age  items     amount  region  trantype regionname agerange\n",
       "0         0   37      4   281.0300       2    online      South    30-39\n",
       "1         0   35      2   219.5100       2    online      South    30-39\n",
       "2         1   45      3  1525.7000       4  in-store       West    40-49\n",
       "3         1   46      3   715.2500       3  in-store       East    40-49\n",
       "4         1   33      4  1937.5000       1  in-store      North    30-39\n",
       "5         0   24      3  1314.2000       4    online       West    20-29\n",
       "6         0   43      6     8.5472       2    online      South    40-49\n",
       "7         1   66      5   819.9800       3  in-store       East    60-69\n",
       "8         1   51      5   908.3100       1  in-store      North    50-59\n",
       "9         1   47      3   767.5400       1  in-store      North    40-49"
      ]
     },
     "execution_count": 461,
     "metadata": {},
     "output_type": "execute_result"
    }
   ],
   "source": [
    "# First 10 rows of the data frame\n",
    "demodata_df[:10]"
   ]
  },
  {
   "cell_type": "code",
   "execution_count": 462,
   "id": "1b47d70c",
   "metadata": {},
   "outputs": [
    {
     "data": {
      "text/plain": [
       "<seaborn.axisgrid.FacetGrid at 0x2388d7cee00>"
      ]
     },
     "execution_count": 462,
     "metadata": {},
     "output_type": "execute_result"
    },
    {
     "data": {
      "image/png": "[encoded data removed]",
      "text/plain": [
       "<Figure size 785.125x360 with 1 Axes>"
      ]
     },
     "metadata": {
      "needs_background": "light"
     },
     "output_type": "display_data"
    }
   ],
   "source": [
    "#factorplot of transactions grouped by region and age range.\n",
    "sns.catplot(x='regionname', data=demodata_df, kind='count', hue='agerange', order=['North','South','East','West'],\n",
    "            hue_order=['<20','20-29','30-39','40-49','50-59','60-69','70-79','80+'], aspect=2)"
   ]
  },
  {
   "cell_type": "code",
   "execution_count": 463,
   "id": "8979eb71",
   "metadata": {},
   "outputs": [
    {
     "data": {
      "text/plain": [
       "30-39    17557\n",
       "40-49    17518\n",
       "50-59    15017\n",
       "20-29    12671\n",
       "60-69     9014\n",
       "70-79     5198\n",
       "80+       2038\n",
       "<20        966\n",
       "Name: agerange, dtype: int64"
      ]
     },
     "execution_count": 463,
     "metadata": {},
     "output_type": "execute_result"
    }
   ],
   "source": [
    "# Count number of transactions by age range\n",
    "demodata_df['agerange'].value_counts()"
   ]
  },
  {
   "cell_type": "code",
   "execution_count": 464,
   "id": "a0cc2250",
   "metadata": {},
   "outputs": [
    {
     "data": {
      "text/plain": [
       "<seaborn.axisgrid.FacetGrid at 0x23889390c10>"
      ]
     },
     "execution_count": 464,
     "metadata": {},
     "output_type": "execute_result"
    },
    {
     "data": {
      "image/png": "[encoded data removed]",
      "text/plain": [
       "<Figure size 965.125x360 with 2 Axes>"
      ]
     },
     "metadata": {
      "needs_background": "light"
     },
     "output_type": "display_data"
    }
   ],
   "source": [
    "# Do the same as above, but split the transactions into either online or in-store\n",
    "sns.catplot(x='regionname', data=demodata_df, kind='count', hue='agerange', col='trantype', order=['North','South','East','West'],\n",
    "            hue_order=['<20','20-29','30-39','40-49','50-59','60-69','70-79','80+'], aspect=1.25, height=5)"
   ]
  },
  {
   "cell_type": "markdown",
   "id": "0d7fcd8b",
   "metadata": {},
   "source": [
    "The North region does not have online transactions, while the South region only has online transactions. The South region, \n",
    "has a large number of online transactions for customers over 80 years of age, more than any other region regardless of \n",
    "transaction type. The bulk of customers appear to be between the ages of 30 and 49 for in-store transactions, but for \n",
    "online transactions, the age spread runs mainly from 30-79. It would appear that online shopping appeals to a broader age range\n",
    "than in-store shopping."
   ]
  },
  {
   "cell_type": "markdown",
   "id": "6f0f3a0f",
   "metadata": {},
   "source": [
    "# kde plot, Distribution of Customers' Ages"
   ]
  },
  {
   "cell_type": "code",
   "execution_count": 465,
   "id": "6f6d77e8",
   "metadata": {},
   "outputs": [
    {
     "data": {
      "text/plain": [
       "<seaborn.axisgrid.FacetGrid at 0x2388ea0a530>"
      ]
     },
     "execution_count": 465,
     "metadata": {},
     "output_type": "execute_result"
    },
    {
     "data": {
      "image/png": "[encoded data removed]",
      "text/plain": [
       "<Figure size 931.875x216 with 1 Axes>"
      ]
     },
     "metadata": {
      "needs_background": "light"
     },
     "output_type": "display_data"
    }
   ],
   "source": [
    "fig = sns.FacetGrid(demodata_df, hue='regionname', aspect = 4)\n",
    "fig.map(sns.kdeplot,'amount',shade=True)\n",
    "oldest = demodata_df['amount'].max()\n",
    "fig.set(xlim=(0,oldest))\n",
    "fig.set(title='Distribution of Amount Grouped by Region')\n",
    "fig.add_legend()"
   ]
  },
  {
   "cell_type": "markdown",
   "id": "0393d7c8",
   "metadata": {},
   "source": [
    "From the plot above, the South region has more transactions under $500. The other regions have a broader range of amounts per transaction but skew toward transactions under \\\\$1000 for North and East, and under \\\\$2000 for the West region."
   ]
  },
  {
   "cell_type": "markdown",
   "id": "5d993d07",
   "metadata": {},
   "source": [
    "## How many items did the customers buy?"
   ]
  },
  {
   "cell_type": "code",
   "execution_count": 466,
   "id": "00e265c4",
   "metadata": {},
   "outputs": [
    {
     "data": {
      "text/plain": [
       "0    4\n",
       "1    2\n",
       "2    3\n",
       "3    3\n",
       "4    4\n",
       "Name: items, dtype: int64"
      ]
     },
     "execution_count": 466,
     "metadata": {},
     "output_type": "execute_result"
    }
   ],
   "source": [
    "items = demodata_df['items'].dropna()\n",
    "items.head()"
   ]
  },
  {
   "cell_type": "code",
   "execution_count": 467,
   "id": "062b296e",
   "metadata": {},
   "outputs": [],
   "source": [
    "# Grab the number of items\n",
    "d = []\n",
    "for c in items:\n",
    "    d.append(c)"
   ]
  },
  {
   "cell_type": "code",
   "execution_count": 468,
   "id": "53ef615d",
   "metadata": {},
   "outputs": [
    {
     "data": {
      "text/plain": [
       "[4, 2, 3, 3, 4, 3, 6, 5, 5, 3]"
      ]
     },
     "execution_count": 468,
     "metadata": {},
     "output_type": "execute_result"
    }
   ],
   "source": [
    "d[0:10]"
   ]
  },
  {
   "cell_type": "code",
   "execution_count": 469,
   "id": "4ef225d0",
   "metadata": {},
   "outputs": [
    {
     "data": {
      "text/plain": [
       "Counter({4: 11594,\n",
       "         2: 11284,\n",
       "         3: 11486,\n",
       "         6: 11519,\n",
       "         5: 11233,\n",
       "         7: 11376,\n",
       "         1: 5699,\n",
       "         8: 5788})"
      ]
     },
     "execution_count": 469,
     "metadata": {},
     "output_type": "execute_result"
    }
   ],
   "source": [
    "from collections import Counter\n",
    "Counter(d)"
   ]
  },
  {
   "cell_type": "code",
   "execution_count": 470,
   "id": "c2f028c5",
   "metadata": {},
   "outputs": [
    {
     "data": {
      "text/plain": [
       "<seaborn.axisgrid.FacetGrid at 0x2388d1c65f0>"
      ]
     },
     "execution_count": 470,
     "metadata": {},
     "output_type": "execute_result"
    },
    {
     "data": {
      "image/png": "[encoded data removed]",
      "text/plain": [
       "<Figure size 720x360 with 1 Axes>"
      ]
     },
     "metadata": {
      "needs_background": "light"
     },
     "output_type": "display_data"
    }
   ],
   "source": [
    "# Catplot the number of items. First transfer the d list into a data frame, then rename the column Items\n",
    "items_df = DataFrame(d)\n",
    "items_df.columns=['items']\n",
    "sns.catplot(x='items', data=items_df, kind='count',order=[1,2,3,4,5,6,7,8], aspect=2, palette='winter_d')"
   ]
  },
  {
   "cell_type": "markdown",
   "id": "a3df581e",
   "metadata": {},
   "source": [
    "## Breakout Amounts by Region"
   ]
  },
  {
   "cell_type": "code",
   "execution_count": 471,
   "id": "30cec729",
   "metadata": {},
   "outputs": [
    {
     "data": {
      "text/plain": [
       "<seaborn.axisgrid.FacetGrid at 0x2388e132590>"
      ]
     },
     "execution_count": 471,
     "metadata": {},
     "output_type": "execute_result"
    },
    {
     "data": {
      "image/png": "[encoded data removed]",
      "text/plain": [
       "<Figure size 794x360 with 1 Axes>"
      ]
     },
     "metadata": {
      "needs_background": "light"
     },
     "output_type": "display_data"
    }
   ],
   "source": [
    "sns.catplot(x='regionname', data=demodata_df, kind='count', hue='trantype', hue_order=['online','in-store'], aspect=2,\n",
    "               order=['North','South','East','West'])"
   ]
  },
  {
   "cell_type": "code",
   "execution_count": 472,
   "id": "d6056cfc",
   "metadata": {},
   "outputs": [
    {
     "data": {
      "text/plain": [
       "West     25988\n",
       "South    19994\n",
       "East     18000\n",
       "North    15997\n",
       "Name: regionname, dtype: int64"
      ]
     },
     "execution_count": 472,
     "metadata": {},
     "output_type": "execute_result"
    }
   ],
   "source": [
    "demodata_df.regionname.value_counts()"
   ]
  },
  {
   "cell_type": "code",
   "execution_count": 473,
   "id": "ba9458c0",
   "metadata": {},
   "outputs": [],
   "source": [
    "#crosstab showing totals\n",
    "tots = pd.crosstab(index=[demodata_df.regionname], columns=[demodata_df.trantype])\n",
    "tots.columns = 'I','O'"
   ]
  },
  {
   "cell_type": "code",
   "execution_count": 474,
   "id": "9b8edf49",
   "metadata": {},
   "outputs": [
    {
     "data": {
      "text/html": [
       "<div>\n",
       "<style scoped>\n",
       "    .dataframe tbody tr th:only-of-type {\n",
       "        vertical-align: middle;\n",
       "    }\n",
       "\n",
       "    .dataframe tbody tr th {\n",
       "        vertical-align: top;\n",
       "    }\n",
       "\n",
       "    .dataframe thead th {\n",
       "        text-align: right;\n",
       "    }\n",
       "</style>\n",
       "<table border=\"1\" class=\"dataframe\">\n",
       "  <thead>\n",
       "    <tr style=\"text-align: right;\">\n",
       "      <th></th>\n",
       "      <th>I</th>\n",
       "      <th>O</th>\n",
       "    </tr>\n",
       "    <tr>\n",
       "      <th>regionname</th>\n",
       "      <th></th>\n",
       "      <th></th>\n",
       "    </tr>\n",
       "  </thead>\n",
       "  <tbody>\n",
       "    <tr>\n",
       "      <th>East</th>\n",
       "      <td>10999</td>\n",
       "      <td>7001</td>\n",
       "    </tr>\n",
       "    <tr>\n",
       "      <th>North</th>\n",
       "      <td>15997</td>\n",
       "      <td>0</td>\n",
       "    </tr>\n",
       "    <tr>\n",
       "      <th>South</th>\n",
       "      <td>0</td>\n",
       "      <td>19994</td>\n",
       "    </tr>\n",
       "    <tr>\n",
       "      <th>West</th>\n",
       "      <td>12994</td>\n",
       "      <td>12994</td>\n",
       "    </tr>\n",
       "  </tbody>\n",
       "</table>\n",
       "</div>"
      ],
      "text/plain": [
       "                I      O\n",
       "regionname              \n",
       "East        10999   7001\n",
       "North       15997      0\n",
       "South           0  19994\n",
       "West        12994  12994"
      ]
     },
     "execution_count": 474,
     "metadata": {},
     "output_type": "execute_result"
    }
   ],
   "source": [
    "tots"
   ]
  },
  {
   "cell_type": "code",
   "execution_count": 475,
   "id": "2215cb07",
   "metadata": {},
   "outputs": [
    {
     "data": {
      "text/plain": [
       "Index(['East', 'North', 'South', 'West'], dtype='object', name='regionname')"
      ]
     },
     "execution_count": 475,
     "metadata": {},
     "output_type": "execute_result"
    }
   ],
   "source": [
    "tots.index"
   ]
  },
  {
   "cell_type": "code",
   "execution_count": 476,
   "id": "4a446c30",
   "metadata": {},
   "outputs": [
    {
     "data": {
      "text/plain": [
       "Index(['I', 'O'], dtype='object')"
      ]
     },
     "execution_count": 476,
     "metadata": {},
     "output_type": "execute_result"
    }
   ],
   "source": [
    "tots.columns"
   ]
  },
  {
   "cell_type": "markdown",
   "id": "12c84419",
   "metadata": {},
   "source": [
    "## Transaction Type and Amounts only"
   ]
  },
  {
   "cell_type": "code",
   "execution_count": 477,
   "id": "6b1b3c9e",
   "metadata": {},
   "outputs": [
    {
     "data": {
      "text/html": [
       "<div>\n",
       "<style scoped>\n",
       "    .dataframe tbody tr th:only-of-type {\n",
       "        vertical-align: middle;\n",
       "    }\n",
       "\n",
       "    .dataframe tbody tr th {\n",
       "        vertical-align: top;\n",
       "    }\n",
       "\n",
       "    .dataframe thead th {\n",
       "        text-align: right;\n",
       "    }\n",
       "</style>\n",
       "<table border=\"1\" class=\"dataframe\">\n",
       "  <thead>\n",
       "    <tr style=\"text-align: right;\">\n",
       "      <th></th>\n",
       "      <th>trantype</th>\n",
       "      <th>amount</th>\n",
       "    </tr>\n",
       "  </thead>\n",
       "  <tbody>\n",
       "    <tr>\n",
       "      <th>0</th>\n",
       "      <td>online</td>\n",
       "      <td>281.03</td>\n",
       "    </tr>\n",
       "    <tr>\n",
       "      <th>1</th>\n",
       "      <td>online</td>\n",
       "      <td>219.51</td>\n",
       "    </tr>\n",
       "    <tr>\n",
       "      <th>2</th>\n",
       "      <td>in-store</td>\n",
       "      <td>1525.70</td>\n",
       "    </tr>\n",
       "    <tr>\n",
       "      <th>3</th>\n",
       "      <td>in-store</td>\n",
       "      <td>715.25</td>\n",
       "    </tr>\n",
       "    <tr>\n",
       "      <th>4</th>\n",
       "      <td>in-store</td>\n",
       "      <td>1937.50</td>\n",
       "    </tr>\n",
       "  </tbody>\n",
       "</table>\n",
       "</div>"
      ],
      "text/plain": [
       "   trantype   amount\n",
       "0    online   281.03\n",
       "1    online   219.51\n",
       "2  in-store  1525.70\n",
       "3  in-store   715.25\n",
       "4  in-store  1937.50"
      ]
     },
     "execution_count": 477,
     "metadata": {},
     "output_type": "execute_result"
    }
   ],
   "source": [
    "demodata_df[['trantype','amount']].head()"
   ]
  },
  {
   "cell_type": "code",
   "execution_count": 478,
   "id": "2daff5ae",
   "metadata": {},
   "outputs": [],
   "source": [
    "online_df = demodata_df[(demodata_df['trantype']=='online')]\n",
    "instore_df = demodata_df[(demodata_df['trantype']=='in-store')]"
   ]
  },
  {
   "cell_type": "code",
   "execution_count": 479,
   "id": "a45a0984",
   "metadata": {},
   "outputs": [
    {
     "data": {
      "text/plain": [
       "[39989, 39990]"
      ]
     },
     "execution_count": 479,
     "metadata": {},
     "output_type": "execute_result"
    }
   ],
   "source": [
    "[len(online_df),len(instore_df)]"
   ]
  },
  {
   "cell_type": "code",
   "execution_count": 480,
   "id": "ef5e5c84",
   "metadata": {},
   "outputs": [
    {
     "data": {
      "text/html": [
       "<div>\n",
       "<style scoped>\n",
       "    .dataframe tbody tr th:only-of-type {\n",
       "        vertical-align: middle;\n",
       "    }\n",
       "\n",
       "    .dataframe tbody tr th {\n",
       "        vertical-align: top;\n",
       "    }\n",
       "\n",
       "    .dataframe thead th {\n",
       "        text-align: right;\n",
       "    }\n",
       "</style>\n",
       "<table border=\"1\" class=\"dataframe\">\n",
       "  <thead>\n",
       "    <tr style=\"text-align: right;\">\n",
       "      <th></th>\n",
       "      <th>in-store</th>\n",
       "      <th>age</th>\n",
       "      <th>items</th>\n",
       "      <th>amount</th>\n",
       "      <th>region</th>\n",
       "      <th>trantype</th>\n",
       "      <th>regionname</th>\n",
       "      <th>agerange</th>\n",
       "    </tr>\n",
       "  </thead>\n",
       "  <tbody>\n",
       "    <tr>\n",
       "      <th>0</th>\n",
       "      <td>0</td>\n",
       "      <td>37</td>\n",
       "      <td>4</td>\n",
       "      <td>281.0300</td>\n",
       "      <td>2</td>\n",
       "      <td>online</td>\n",
       "      <td>South</td>\n",
       "      <td>30-39</td>\n",
       "    </tr>\n",
       "    <tr>\n",
       "      <th>1</th>\n",
       "      <td>0</td>\n",
       "      <td>35</td>\n",
       "      <td>2</td>\n",
       "      <td>219.5100</td>\n",
       "      <td>2</td>\n",
       "      <td>online</td>\n",
       "      <td>South</td>\n",
       "      <td>30-39</td>\n",
       "    </tr>\n",
       "    <tr>\n",
       "      <th>5</th>\n",
       "      <td>0</td>\n",
       "      <td>24</td>\n",
       "      <td>3</td>\n",
       "      <td>1314.2000</td>\n",
       "      <td>4</td>\n",
       "      <td>online</td>\n",
       "      <td>West</td>\n",
       "      <td>20-29</td>\n",
       "    </tr>\n",
       "    <tr>\n",
       "      <th>6</th>\n",
       "      <td>0</td>\n",
       "      <td>43</td>\n",
       "      <td>6</td>\n",
       "      <td>8.5472</td>\n",
       "      <td>2</td>\n",
       "      <td>online</td>\n",
       "      <td>South</td>\n",
       "      <td>40-49</td>\n",
       "    </tr>\n",
       "    <tr>\n",
       "      <th>12</th>\n",
       "      <td>0</td>\n",
       "      <td>32</td>\n",
       "      <td>2</td>\n",
       "      <td>58.9970</td>\n",
       "      <td>2</td>\n",
       "      <td>online</td>\n",
       "      <td>South</td>\n",
       "      <td>30-39</td>\n",
       "    </tr>\n",
       "  </tbody>\n",
       "</table>\n",
       "</div>"
      ],
      "text/plain": [
       "    in-store  age  items     amount  region trantype regionname agerange\n",
       "0          0   37      4   281.0300       2   online      South    30-39\n",
       "1          0   35      2   219.5100       2   online      South    30-39\n",
       "5          0   24      3  1314.2000       4   online       West    20-29\n",
       "6          0   43      6     8.5472       2   online      South    40-49\n",
       "12         0   32      2    58.9970       2   online      South    30-39"
      ]
     },
     "execution_count": 480,
     "metadata": {},
     "output_type": "execute_result"
    }
   ],
   "source": [
    "# First 5 rows of the dataframe\n",
    "online_df.head()"
   ]
  },
  {
   "cell_type": "code",
   "execution_count": 481,
   "id": "f154a67d",
   "metadata": {},
   "outputs": [
    {
     "data": {
      "text/html": [
       "<div>\n",
       "<style scoped>\n",
       "    .dataframe tbody tr th:only-of-type {\n",
       "        vertical-align: middle;\n",
       "    }\n",
       "\n",
       "    .dataframe tbody tr th {\n",
       "        vertical-align: top;\n",
       "    }\n",
       "\n",
       "    .dataframe thead th {\n",
       "        text-align: right;\n",
       "    }\n",
       "</style>\n",
       "<table border=\"1\" class=\"dataframe\">\n",
       "  <thead>\n",
       "    <tr style=\"text-align: right;\">\n",
       "      <th></th>\n",
       "      <th>in-store</th>\n",
       "      <th>age</th>\n",
       "      <th>items</th>\n",
       "      <th>amount</th>\n",
       "      <th>region</th>\n",
       "      <th>trantype</th>\n",
       "      <th>regionname</th>\n",
       "      <th>agerange</th>\n",
       "    </tr>\n",
       "  </thead>\n",
       "  <tbody>\n",
       "    <tr>\n",
       "      <th>2</th>\n",
       "      <td>1</td>\n",
       "      <td>45</td>\n",
       "      <td>3</td>\n",
       "      <td>1525.70</td>\n",
       "      <td>4</td>\n",
       "      <td>in-store</td>\n",
       "      <td>West</td>\n",
       "      <td>40-49</td>\n",
       "    </tr>\n",
       "    <tr>\n",
       "      <th>3</th>\n",
       "      <td>1</td>\n",
       "      <td>46</td>\n",
       "      <td>3</td>\n",
       "      <td>715.25</td>\n",
       "      <td>3</td>\n",
       "      <td>in-store</td>\n",
       "      <td>East</td>\n",
       "      <td>40-49</td>\n",
       "    </tr>\n",
       "    <tr>\n",
       "      <th>4</th>\n",
       "      <td>1</td>\n",
       "      <td>33</td>\n",
       "      <td>4</td>\n",
       "      <td>1937.50</td>\n",
       "      <td>1</td>\n",
       "      <td>in-store</td>\n",
       "      <td>North</td>\n",
       "      <td>30-39</td>\n",
       "    </tr>\n",
       "    <tr>\n",
       "      <th>7</th>\n",
       "      <td>1</td>\n",
       "      <td>66</td>\n",
       "      <td>5</td>\n",
       "      <td>819.98</td>\n",
       "      <td>3</td>\n",
       "      <td>in-store</td>\n",
       "      <td>East</td>\n",
       "      <td>60-69</td>\n",
       "    </tr>\n",
       "    <tr>\n",
       "      <th>8</th>\n",
       "      <td>1</td>\n",
       "      <td>51</td>\n",
       "      <td>5</td>\n",
       "      <td>908.31</td>\n",
       "      <td>1</td>\n",
       "      <td>in-store</td>\n",
       "      <td>North</td>\n",
       "      <td>50-59</td>\n",
       "    </tr>\n",
       "  </tbody>\n",
       "</table>\n",
       "</div>"
      ],
      "text/plain": [
       "   in-store  age  items   amount  region  trantype regionname agerange\n",
       "2         1   45      3  1525.70       4  in-store       West    40-49\n",
       "3         1   46      3   715.25       3  in-store       East    40-49\n",
       "4         1   33      4  1937.50       1  in-store      North    30-39\n",
       "7         1   66      5   819.98       3  in-store       East    60-69\n",
       "8         1   51      5   908.31       1  in-store      North    50-59"
      ]
     },
     "execution_count": 481,
     "metadata": {},
     "output_type": "execute_result"
    }
   ],
   "source": [
    "# First 5 rows of the dataframe\n",
    "instore_df.head()"
   ]
  },
  {
   "cell_type": "code",
   "execution_count": 482,
   "id": "8919db98",
   "metadata": {},
   "outputs": [
    {
     "data": {
      "text/html": [
       "<div>\n",
       "<style scoped>\n",
       "    .dataframe tbody tr th:only-of-type {\n",
       "        vertical-align: middle;\n",
       "    }\n",
       "\n",
       "    .dataframe tbody tr th {\n",
       "        vertical-align: top;\n",
       "    }\n",
       "\n",
       "    .dataframe thead th {\n",
       "        text-align: right;\n",
       "    }\n",
       "</style>\n",
       "<table border=\"1\" class=\"dataframe\">\n",
       "  <thead>\n",
       "    <tr style=\"text-align: right;\">\n",
       "      <th></th>\n",
       "      <th>in-store</th>\n",
       "      <th>age</th>\n",
       "      <th>items</th>\n",
       "      <th>amount</th>\n",
       "      <th>region</th>\n",
       "      <th>trantype</th>\n",
       "      <th>regionname</th>\n",
       "      <th>agerange</th>\n",
       "    </tr>\n",
       "  </thead>\n",
       "  <tbody>\n",
       "    <tr>\n",
       "      <th>0</th>\n",
       "      <td>0</td>\n",
       "      <td>37</td>\n",
       "      <td>4</td>\n",
       "      <td>281.03</td>\n",
       "      <td>2</td>\n",
       "      <td>online</td>\n",
       "      <td>South</td>\n",
       "      <td>30-39</td>\n",
       "    </tr>\n",
       "    <tr>\n",
       "      <th>1</th>\n",
       "      <td>0</td>\n",
       "      <td>35</td>\n",
       "      <td>2</td>\n",
       "      <td>219.51</td>\n",
       "      <td>2</td>\n",
       "      <td>online</td>\n",
       "      <td>South</td>\n",
       "      <td>30-39</td>\n",
       "    </tr>\n",
       "    <tr>\n",
       "      <th>2</th>\n",
       "      <td>1</td>\n",
       "      <td>45</td>\n",
       "      <td>3</td>\n",
       "      <td>1525.70</td>\n",
       "      <td>4</td>\n",
       "      <td>in-store</td>\n",
       "      <td>West</td>\n",
       "      <td>40-49</td>\n",
       "    </tr>\n",
       "    <tr>\n",
       "      <th>3</th>\n",
       "      <td>1</td>\n",
       "      <td>46</td>\n",
       "      <td>3</td>\n",
       "      <td>715.25</td>\n",
       "      <td>3</td>\n",
       "      <td>in-store</td>\n",
       "      <td>East</td>\n",
       "      <td>40-49</td>\n",
       "    </tr>\n",
       "    <tr>\n",
       "      <th>4</th>\n",
       "      <td>1</td>\n",
       "      <td>33</td>\n",
       "      <td>4</td>\n",
       "      <td>1937.50</td>\n",
       "      <td>1</td>\n",
       "      <td>in-store</td>\n",
       "      <td>North</td>\n",
       "      <td>30-39</td>\n",
       "    </tr>\n",
       "  </tbody>\n",
       "</table>\n",
       "</div>"
      ],
      "text/plain": [
       "   in-store  age  items   amount  region  trantype regionname agerange\n",
       "0         0   37      4   281.03       2    online      South    30-39\n",
       "1         0   35      2   219.51       2    online      South    30-39\n",
       "2         1   45      3  1525.70       4  in-store       West    40-49\n",
       "3         1   46      3   715.25       3  in-store       East    40-49\n",
       "4         1   33      4  1937.50       1  in-store      North    30-39"
      ]
     },
     "execution_count": 482,
     "metadata": {},
     "output_type": "execute_result"
    }
   ],
   "source": [
    "demodata_df.head()"
   ]
  },
  {
   "cell_type": "markdown",
   "id": "d2538a78",
   "metadata": {},
   "source": [
    "## Factors Affecting Online Transactions"
   ]
  },
  {
   "cell_type": "code",
   "execution_count": 483,
   "id": "b563c7c5",
   "metadata": {},
   "outputs": [],
   "source": [
    "demodata_df['online'] = demodata_df['in-store'].map({0:'yes',1:'no'})"
   ]
  },
  {
   "cell_type": "code",
   "execution_count": 484,
   "id": "46d2a7cb",
   "metadata": {},
   "outputs": [
    {
     "data": {
      "text/html": [
       "<div>\n",
       "<style scoped>\n",
       "    .dataframe tbody tr th:only-of-type {\n",
       "        vertical-align: middle;\n",
       "    }\n",
       "\n",
       "    .dataframe tbody tr th {\n",
       "        vertical-align: top;\n",
       "    }\n",
       "\n",
       "    .dataframe thead th {\n",
       "        text-align: right;\n",
       "    }\n",
       "</style>\n",
       "<table border=\"1\" class=\"dataframe\">\n",
       "  <thead>\n",
       "    <tr style=\"text-align: right;\">\n",
       "      <th></th>\n",
       "      <th>in-store</th>\n",
       "      <th>age</th>\n",
       "      <th>items</th>\n",
       "      <th>amount</th>\n",
       "      <th>region</th>\n",
       "      <th>trantype</th>\n",
       "      <th>regionname</th>\n",
       "      <th>agerange</th>\n",
       "      <th>online</th>\n",
       "    </tr>\n",
       "  </thead>\n",
       "  <tbody>\n",
       "    <tr>\n",
       "      <th>0</th>\n",
       "      <td>0</td>\n",
       "      <td>37</td>\n",
       "      <td>4</td>\n",
       "      <td>281.03</td>\n",
       "      <td>2</td>\n",
       "      <td>online</td>\n",
       "      <td>South</td>\n",
       "      <td>30-39</td>\n",
       "      <td>yes</td>\n",
       "    </tr>\n",
       "    <tr>\n",
       "      <th>1</th>\n",
       "      <td>0</td>\n",
       "      <td>35</td>\n",
       "      <td>2</td>\n",
       "      <td>219.51</td>\n",
       "      <td>2</td>\n",
       "      <td>online</td>\n",
       "      <td>South</td>\n",
       "      <td>30-39</td>\n",
       "      <td>yes</td>\n",
       "    </tr>\n",
       "    <tr>\n",
       "      <th>2</th>\n",
       "      <td>1</td>\n",
       "      <td>45</td>\n",
       "      <td>3</td>\n",
       "      <td>1525.70</td>\n",
       "      <td>4</td>\n",
       "      <td>in-store</td>\n",
       "      <td>West</td>\n",
       "      <td>40-49</td>\n",
       "      <td>no</td>\n",
       "    </tr>\n",
       "    <tr>\n",
       "      <th>3</th>\n",
       "      <td>1</td>\n",
       "      <td>46</td>\n",
       "      <td>3</td>\n",
       "      <td>715.25</td>\n",
       "      <td>3</td>\n",
       "      <td>in-store</td>\n",
       "      <td>East</td>\n",
       "      <td>40-49</td>\n",
       "      <td>no</td>\n",
       "    </tr>\n",
       "    <tr>\n",
       "      <th>4</th>\n",
       "      <td>1</td>\n",
       "      <td>33</td>\n",
       "      <td>4</td>\n",
       "      <td>1937.50</td>\n",
       "      <td>1</td>\n",
       "      <td>in-store</td>\n",
       "      <td>North</td>\n",
       "      <td>30-39</td>\n",
       "      <td>no</td>\n",
       "    </tr>\n",
       "  </tbody>\n",
       "</table>\n",
       "</div>"
      ],
      "text/plain": [
       "   in-store  age  items   amount  region  trantype regionname agerange online\n",
       "0         0   37      4   281.03       2    online      South    30-39    yes\n",
       "1         0   35      2   219.51       2    online      South    30-39    yes\n",
       "2         1   45      3  1525.70       4  in-store       West    40-49     no\n",
       "3         1   46      3   715.25       3  in-store       East    40-49     no\n",
       "4         1   33      4  1937.50       1  in-store      North    30-39     no"
      ]
     },
     "execution_count": 484,
     "metadata": {},
     "output_type": "execute_result"
    }
   ],
   "source": [
    "demodata_df.head()"
   ]
  },
  {
   "cell_type": "code",
   "execution_count": 485,
   "id": "aa6ba134",
   "metadata": {},
   "outputs": [
    {
     "name": "stderr",
     "output_type": "stream",
     "text": [
      "C:\\Users\\higgi\\.conda\\envs\\course1\\lib\\site-packages\\seaborn\\categorical.py:3717: UserWarning: The `factorplot` function has been renamed to `catplot`. The original name will be removed in a future release. Please update your code. Note that the default `kind` in `factorplot` (`'point'`) has changed `'strip'` in `catplot`.\n",
      "  warnings.warn(msg)\n"
     ]
    },
    {
     "data": {
      "text/plain": [
       "<seaborn.axisgrid.FacetGrid at 0x2388e45f8b0>"
      ]
     },
     "execution_count": 485,
     "metadata": {},
     "output_type": "execute_result"
    },
    {
     "data": {
      "image/png": "[encoded data removed]",
      "text/plain": [
       "<Figure size 427.875x360 with 1 Axes>"
      ]
     },
     "metadata": {
      "needs_background": "light"
     },
     "output_type": "display_data"
    }
   ],
   "source": [
    "# Age Range and Amount grouped by Region\n",
    "sns.factorplot(x='agerange',y='in-store', hue='regionname', data=demodata_df, \n",
    "               order=['<20','20-29','30-39','40-49','50-59','60-69','70-79','80+'],\n",
    "               hue_order=['North','South','East','West'])"
   ]
  },
  {
   "cell_type": "markdown",
   "id": "eee9803c",
   "metadata": {},
   "source": [
    "From the figure above, there are only in-store customers in the North region, and only online customers in the South region.\n",
    "In the East region in-store sales increase with age, and in the West region in-store sales mainly decline with age after age 20."
   ]
  },
  {
   "cell_type": "code",
   "execution_count": 486,
   "id": "a9e93c4b",
   "metadata": {},
   "outputs": [
    {
     "data": {
      "text/plain": [
       "<seaborn.axisgrid.FacetGrid at 0x2388d15d090>"
      ]
     },
     "execution_count": 486,
     "metadata": {},
     "output_type": "execute_result"
    },
    {
     "data": {
      "image/png": "[encoded data removed]",
      "text/plain": [
       "<Figure size 2947.88x360 with 8 Axes>"
      ]
     },
     "metadata": {
      "needs_background": "light"
     },
     "output_type": "display_data"
    }
   ],
   "source": [
    "sns.catplot(x='online', data=demodata_df, hue='regionname', kind='count', palette='Pastel2', col='agerange',\n",
    "            hue_order=['North','South','East','West'],\n",
    "            col_order=['<20','20-29','30-39','40-49','50-59','60-69','70-79','80+'] )"
   ]
  },
  {
   "cell_type": "markdown",
   "id": "bbbca8b7",
   "metadata": {},
   "source": [
    "## Items Purchased Factor"
   ]
  },
  {
   "cell_type": "code",
   "execution_count": 491,
   "id": "f1ac856c",
   "metadata": {},
   "outputs": [
    {
     "name": "stderr",
     "output_type": "stream",
     "text": [
      "C:\\Users\\higgi\\.conda\\envs\\course1\\lib\\site-packages\\seaborn\\_decorators.py:36: FutureWarning: Pass the following variables as keyword args: x, y. From version 0.12, the only valid positional argument will be `data`, and passing other arguments without an explicit keyword will result in an error or misinterpretation.\n",
      "  warnings.warn(\n"
     ]
    },
    {
     "data": {
      "text/plain": [
       "<seaborn.axisgrid.FacetGrid at 0x2388e9346a0>"
      ]
     },
     "execution_count": 491,
     "metadata": {},
     "output_type": "execute_result"
    },
    {
     "data": {
      "image/png": "[encoded data removed]",
      "text/plain": [
       "<Figure size 360x360 with 1 Axes>"
      ]
     },
     "metadata": {
      "needs_background": "light"
     },
     "output_type": "display_data"
    }
   ],
   "source": [
    "# Linear Plot of age vs in-store\n",
    "sns.lmplot('age','in-store', data=demodata_df)"
   ]
  },
  {
   "cell_type": "markdown",
   "id": "3fd4646c",
   "metadata": {},
   "source": [
    "There seems to be a general linear trend between age and in-store purchases. The plot shows that the older a person is, the lower chance he/she would purchase in-store."
   ]
  },
  {
   "cell_type": "code",
   "execution_count": 497,
   "id": "d047741f",
   "metadata": {},
   "outputs": [
    {
     "name": "stderr",
     "output_type": "stream",
     "text": [
      "C:\\Users\\higgi\\.conda\\envs\\course1\\lib\\site-packages\\seaborn\\_decorators.py:36: FutureWarning: Pass the following variables as keyword args: x, y. From version 0.12, the only valid positional argument will be `data`, and passing other arguments without an explicit keyword will result in an error or misinterpretation.\n",
      "  warnings.warn(\n"
     ]
    },
    {
     "data": {
      "text/plain": [
       "<seaborn.axisgrid.FacetGrid at 0x23891c6fbe0>"
      ]
     },
     "execution_count": 497,
     "metadata": {},
     "output_type": "execute_result"
    },
    {
     "data": {
      "image/png": "[encoded data removed]",
      "text/plain": [
       "<Figure size 427.875x360 with 1 Axes>"
      ]
     },
     "metadata": {
      "needs_background": "light"
     },
     "output_type": "display_data"
    }
   ],
   "source": [
    "# Age vs in-store grouped by region\n",
    "sns.lmplot('age','in-store', hue='regionname', data=demodata_df, hue_order = ['North','South','East','West'])"
   ]
  },
  {
   "cell_type": "markdown",
   "id": "eeb04492",
   "metadata": {},
   "source": [
    "In this plot, we see an increasing likelihood of East region customers shopping in store as they age, and the opposite for West region customers. "
   ]
  },
  {
   "cell_type": "code",
   "execution_count": 502,
   "id": "5ae324a0",
   "metadata": {},
   "outputs": [
    {
     "name": "stderr",
     "output_type": "stream",
     "text": [
      "C:\\Users\\higgi\\.conda\\envs\\course1\\lib\\site-packages\\seaborn\\_decorators.py:36: FutureWarning: Pass the following variables as keyword args: x, y. From version 0.12, the only valid positional argument will be `data`, and passing other arguments without an explicit keyword will result in an error or misinterpretation.\n",
      "  warnings.warn(\n"
     ]
    },
    {
     "data": {
      "text/plain": [
       "<seaborn.axisgrid.FacetGrid at 0x23895feb370>"
      ]
     },
     "execution_count": 502,
     "metadata": {},
     "output_type": "execute_result"
    },
    {
     "data": {
      "image/png": "[encoded data removed]",
      "text/plain": [
       "<Figure size 402.375x360 with 1 Axes>"
      ]
     },
     "metadata": {
      "needs_background": "light"
     },
     "output_type": "display_data"
    }
   ],
   "source": [
    "# age vs in-store grouped by number of items purchased\n",
    "sns.lmplot('age','in-store',hue='items', data=demodata_df, hue_order = range(1,9))"
   ]
  },
  {
   "cell_type": "markdown",
   "id": "4c084302",
   "metadata": {},
   "source": [
    "It appears that in all cases, the number of items purchased in-store declines with age."
   ]
  },
  {
   "cell_type": "code",
   "execution_count": 506,
   "id": "06ebd0ef",
   "metadata": {},
   "outputs": [
    {
     "name": "stderr",
     "output_type": "stream",
     "text": [
      "C:\\Users\\higgi\\.conda\\envs\\course1\\lib\\site-packages\\seaborn\\_decorators.py:36: FutureWarning: Pass the following variables as keyword args: x, y. From version 0.12, the only valid positional argument will be `data`, and passing other arguments without an explicit keyword will result in an error or misinterpretation.\n",
      "  warnings.warn(\n"
     ]
    },
    {
     "data": {
      "text/plain": [
       "<seaborn.axisgrid.FacetGrid at 0x23896615c90>"
      ]
     },
     "execution_count": 506,
     "metadata": {},
     "output_type": "execute_result"
    },
    {
     "data": {
      "image/png": "[encoded data removed]",
      "text/plain": [
       "<Figure size 427.875x360 with 1 Axes>"
      ]
     },
     "metadata": {
      "needs_background": "light"
     },
     "output_type": "display_data"
    }
   ],
   "source": [
    "#by age group\n",
    "generations = [10,20,30,40,50,60,70,80,90]\n",
    "sns.lmplot('age','in-store',hue='regionname',data=demodata_df, x_bins=generations, hue_order=['North','South','East','West'])"
   ]
  },
  {
   "cell_type": "code",
   "execution_count": 507,
   "id": "e74eab7f",
   "metadata": {},
   "outputs": [
    {
     "data": {
      "text/plain": [
       "Index(['in-store', 'age', 'items', 'amount', 'region', 'trantype',\n",
       "       'regionname', 'agerange', 'online'],\n",
       "      dtype='object')"
      ]
     },
     "execution_count": 507,
     "metadata": {},
     "output_type": "execute_result"
    }
   ],
   "source": [
    "demodata_df.columns"
   ]
  },
  {
   "cell_type": "code",
   "execution_count": 509,
   "id": "50d8a995",
   "metadata": {},
   "outputs": [],
   "source": [
    "demodata_DF = demodata_df.dropna(subset=['items'])"
   ]
  },
  {
   "cell_type": "code",
   "execution_count": 510,
   "id": "e6e01202",
   "metadata": {},
   "outputs": [
    {
     "data": {
      "text/plain": [
       "[4, 2, 3, 3, 4, 3, 6, 5, 5, 3]"
      ]
     },
     "execution_count": 510,
     "metadata": {},
     "output_type": "execute_result"
    }
   ],
   "source": [
    "d[0:10]"
   ]
  },
  {
   "cell_type": "code",
   "execution_count": 512,
   "id": "ea3e47dd",
   "metadata": {},
   "outputs": [
    {
     "data": {
      "text/plain": [
       "(79979, 79979)"
      ]
     },
     "execution_count": 512,
     "metadata": {},
     "output_type": "execute_result"
    }
   ],
   "source": [
    "len(demodata_DF), len(d)"
   ]
  },
  {
   "cell_type": "code",
   "execution_count": 513,
   "id": "6b8cd32b",
   "metadata": {},
   "outputs": [],
   "source": [
    "demodata_DF['ItemsPurchased'] = d"
   ]
  },
  {
   "cell_type": "code",
   "execution_count": 514,
   "id": "64e9dda4",
   "metadata": {},
   "outputs": [
    {
     "data": {
      "text/html": [
       "<div>\n",
       "<style scoped>\n",
       "    .dataframe tbody tr th:only-of-type {\n",
       "        vertical-align: middle;\n",
       "    }\n",
       "\n",
       "    .dataframe tbody tr th {\n",
       "        vertical-align: top;\n",
       "    }\n",
       "\n",
       "    .dataframe thead th {\n",
       "        text-align: right;\n",
       "    }\n",
       "</style>\n",
       "<table border=\"1\" class=\"dataframe\">\n",
       "  <thead>\n",
       "    <tr style=\"text-align: right;\">\n",
       "      <th></th>\n",
       "      <th>in-store</th>\n",
       "      <th>age</th>\n",
       "      <th>items</th>\n",
       "      <th>amount</th>\n",
       "      <th>region</th>\n",
       "      <th>trantype</th>\n",
       "      <th>regionname</th>\n",
       "      <th>agerange</th>\n",
       "      <th>online</th>\n",
       "      <th>ItemsPurchased</th>\n",
       "    </tr>\n",
       "  </thead>\n",
       "  <tbody>\n",
       "    <tr>\n",
       "      <th>0</th>\n",
       "      <td>0</td>\n",
       "      <td>37</td>\n",
       "      <td>4</td>\n",
       "      <td>281.03</td>\n",
       "      <td>2</td>\n",
       "      <td>online</td>\n",
       "      <td>South</td>\n",
       "      <td>30-39</td>\n",
       "      <td>yes</td>\n",
       "      <td>4</td>\n",
       "    </tr>\n",
       "    <tr>\n",
       "      <th>1</th>\n",
       "      <td>0</td>\n",
       "      <td>35</td>\n",
       "      <td>2</td>\n",
       "      <td>219.51</td>\n",
       "      <td>2</td>\n",
       "      <td>online</td>\n",
       "      <td>South</td>\n",
       "      <td>30-39</td>\n",
       "      <td>yes</td>\n",
       "      <td>2</td>\n",
       "    </tr>\n",
       "    <tr>\n",
       "      <th>2</th>\n",
       "      <td>1</td>\n",
       "      <td>45</td>\n",
       "      <td>3</td>\n",
       "      <td>1525.70</td>\n",
       "      <td>4</td>\n",
       "      <td>in-store</td>\n",
       "      <td>West</td>\n",
       "      <td>40-49</td>\n",
       "      <td>no</td>\n",
       "      <td>3</td>\n",
       "    </tr>\n",
       "    <tr>\n",
       "      <th>3</th>\n",
       "      <td>1</td>\n",
       "      <td>46</td>\n",
       "      <td>3</td>\n",
       "      <td>715.25</td>\n",
       "      <td>3</td>\n",
       "      <td>in-store</td>\n",
       "      <td>East</td>\n",
       "      <td>40-49</td>\n",
       "      <td>no</td>\n",
       "      <td>3</td>\n",
       "    </tr>\n",
       "    <tr>\n",
       "      <th>4</th>\n",
       "      <td>1</td>\n",
       "      <td>33</td>\n",
       "      <td>4</td>\n",
       "      <td>1937.50</td>\n",
       "      <td>1</td>\n",
       "      <td>in-store</td>\n",
       "      <td>North</td>\n",
       "      <td>30-39</td>\n",
       "      <td>no</td>\n",
       "      <td>4</td>\n",
       "    </tr>\n",
       "  </tbody>\n",
       "</table>\n",
       "</div>"
      ],
      "text/plain": [
       "   in-store  age  items   amount  region  trantype regionname agerange online  \\\n",
       "0         0   37      4   281.03       2    online      South    30-39    yes   \n",
       "1         0   35      2   219.51       2    online      South    30-39    yes   \n",
       "2         1   45      3  1525.70       4  in-store       West    40-49     no   \n",
       "3         1   46      3   715.25       3  in-store       East    40-49     no   \n",
       "4         1   33      4  1937.50       1  in-store      North    30-39     no   \n",
       "\n",
       "   ItemsPurchased  \n",
       "0               4  \n",
       "1               2  \n",
       "2               3  \n",
       "3               3  \n",
       "4               4  "
      ]
     },
     "execution_count": 514,
     "metadata": {},
     "output_type": "execute_result"
    }
   ],
   "source": [
    "demodata_DF.head()"
   ]
  },
  {
   "cell_type": "code",
   "execution_count": 515,
   "id": "6acc419a",
   "metadata": {},
   "outputs": [
    {
     "name": "stderr",
     "output_type": "stream",
     "text": [
      "C:\\Users\\higgi\\.conda\\envs\\course1\\lib\\site-packages\\seaborn\\categorical.py:3717: UserWarning: The `factorplot` function has been renamed to `catplot`. The original name will be removed in a future release. Please update your code. Note that the default `kind` in `factorplot` (`'point'`) has changed `'strip'` in `catplot`.\n",
      "  warnings.warn(msg)\n",
      "C:\\Users\\higgi\\.conda\\envs\\course1\\lib\\site-packages\\seaborn\\_decorators.py:36: FutureWarning: Pass the following variables as keyword args: x, y. From version 0.12, the only valid positional argument will be `data`, and passing other arguments without an explicit keyword will result in an error or misinterpretation.\n",
      "  warnings.warn(\n"
     ]
    },
    {
     "data": {
      "text/plain": [
       "<seaborn.axisgrid.FacetGrid at 0x2388e45fd90>"
      ]
     },
     "execution_count": 515,
     "metadata": {},
     "output_type": "execute_result"
    },
    {
     "data": {
      "image/png": "[encoded data removed]",
      "text/plain": [
       "<Figure size 360x360 with 1 Axes>"
      ]
     },
     "metadata": {
      "needs_background": "light"
     },
     "output_type": "display_data"
    }
   ],
   "source": [
    "sns.factorplot('ItemsPurchased','in-store', data=demodata_DF, order=range(1,9))"
   ]
  },
  {
   "cell_type": "markdown",
   "id": "0660b73b",
   "metadata": {},
   "source": [
    "There does not seem to be any relation between in-store purchases and the number of items purchased."
   ]
  },
  {
   "cell_type": "code",
   "execution_count": 528,
   "id": "c0295958",
   "metadata": {},
   "outputs": [
    {
     "name": "stderr",
     "output_type": "stream",
     "text": [
      "C:\\Users\\higgi\\.conda\\envs\\course1\\lib\\site-packages\\seaborn\\categorical.py:3717: UserWarning: The `factorplot` function has been renamed to `catplot`. The original name will be removed in a future release. Please update your code. Note that the default `kind` in `factorplot` (`'point'`) has changed `'strip'` in `catplot`.\n",
      "  warnings.warn(msg)\n",
      "C:\\Users\\higgi\\.conda\\envs\\course1\\lib\\site-packages\\seaborn\\_decorators.py:36: FutureWarning: Pass the following variables as keyword args: x, y. From version 0.12, the only valid positional argument will be `data`, and passing other arguments without an explicit keyword will result in an error or misinterpretation.\n",
      "  warnings.warn(\n"
     ]
    },
    {
     "data": {
      "text/plain": [
       "<seaborn.axisgrid.FacetGrid at 0x23899654040>"
      ]
     },
     "execution_count": 528,
     "metadata": {},
     "output_type": "execute_result"
    },
    {
     "data": {
      "image/png": "[encoded data removed]",
      "text/plain": [
       "<Figure size 360x360 with 1 Axes>"
      ]
     },
     "metadata": {
      "needs_background": "light"
     },
     "output_type": "display_data"
    }
   ],
   "source": [
    "sns.factorplot('regionname', 'in-store', data=demodata_df, palette='winter')"
   ]
  },
  {
   "cell_type": "markdown",
   "id": "dd26ea26",
   "metadata": {},
   "source": [
    "It appears that online purchases are higher for the South and West regions, and less for the East and North regions."
   ]
  },
  {
   "cell_type": "code",
   "execution_count": 527,
   "id": "ebbb4f9f",
   "metadata": {},
   "outputs": [
    {
     "data": {
      "text/plain": [
       "<seaborn.axisgrid.FacetGrid at 0x2389688d390>"
      ]
     },
     "execution_count": 527,
     "metadata": {},
     "output_type": "execute_result"
    },
    {
     "data": {
      "image/png": "[encoded data removed]",
      "text/plain": [
       "<Figure size 402.375x360 with 1 Axes>"
      ]
     },
     "metadata": {
      "needs_background": "light"
     },
     "output_type": "display_data"
    }
   ],
   "source": [
    "sns.factorplot('regionname','in-store', data=demodata_df, palette='winter', hue='items', hue_order = range(1,9))"
   ]
  },
  {
   "cell_type": "code",
   "execution_count": 531,
   "id": "79a17a6b",
   "metadata": {},
   "outputs": [
    {
     "data": {
      "text/plain": [
       "<seaborn.axisgrid.FacetGrid at 0x2389a88bb80>"
      ]
     },
     "execution_count": 531,
     "metadata": {},
     "output_type": "execute_result"
    },
    {
     "data": {
      "image/png": "[encoded data removed]",
      "text/plain": [
       "<Figure size 2922.38x360 with 8 Axes>"
      ]
     },
     "metadata": {
      "needs_background": "light"
     },
     "output_type": "display_data"
    }
   ],
   "source": [
    "sns.factorplot('regionname','in-store', data=demodata_df, palette='summer',hue='items',\n",
    "    hue_order=range(1,9), col='agerange', col_order=['<20','20-29','30-39','40-49','50-59','60-69','70-79','80+'] )"
   ]
  },
  {
   "cell_type": "code",
   "execution_count": null,
   "id": "0e17e3f8",
   "metadata": {},
   "outputs": [],
   "source": []
  }
 ],
 "metadata": {
  "kernelspec": {
   "display_name": "Python3 (Course 1)",
   "language": "python",
   "name": "course1k"
  },
  "language_info": {
   "codemirror_mode": {
    "name": "ipython",
    "version": 3
   },
   "file_extension": ".py",
   "mimetype": "text/x-python",
   "name": "python",
   "nbconvert_exporter": "python",
   "pygments_lexer": "ipython3",
   "version": "3.10.4"
  }
 },
 "nbformat": 4,
 "nbformat_minor": 5
}
