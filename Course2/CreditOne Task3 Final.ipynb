{
 "cells": [
  {
   "cell_type": "markdown",
   "id": "bb7ed39e-a20a-44ac-a019-418868baca8f",
   "metadata": {},
   "source": [
    "# Goals\n",
    "\n",
    "1. How do you ensure that customers can/will pay their loans?\n",
    "2. Can we approve customers with high certainty?"
   ]
  },
  {
   "cell_type": "markdown",
   "id": "e39e5320-a82e-402a-aab9-ddf426fce152",
   "metadata": {},
   "source": [
    "# Imports"
   ]
  },
  {
   "cell_type": "code",
   "execution_count": null,
   "id": "241375b7-ab31-4635-8f63-956e4455e763",
   "metadata": {},
   "outputs": [],
   "source": [
    "#imports\n",
    "#numpy, pandas, scipy, math, matplotlib\n",
    "import numpy as np\n",
    "import pandas as pd\n",
    "import scipy\n",
    "from math import sqrt\n",
    "import matplotlib.pyplot as plt\n",
    "\n",
    "#estimators\n",
    "from sklearn.ensemble import RandomForestRegressor\n",
    "from sklearn.linear_model import LinearRegression\n",
    "from sklearn.svm import SVR\n",
    "from sklearn import linear_model\n",
    "\n",
    "#model metrics\n",
    "from sklearn.metrics import mean_squared_error\n",
    "from sklearn.metrics import r2_score\n",
    "from sklearn.model_selection import cross_val_score\n",
    "\n",
    "#cross validation\n",
    "from sklearn.model_selection import train_test_split\n",
    "\n",
    "#selection method\n",
    "from sklearn.feature_selection import SelectKBest, f_classif"
   ]
  },
  {
   "cell_type": "markdown",
   "id": "b0425742-8650-4cea-be19-138ac9e06979",
   "metadata": {},
   "source": [
    "# Data"
   ]
  },
  {
   "cell_type": "code",
   "execution_count": null,
   "id": "da529f89-d5f3-4f26-b90d-3179d3c428a9",
   "metadata": {},
   "outputs": [],
   "source": [
    "#data\n",
    "rawData = pd.read_csv('Credit_One_Data.csv')\n",
    "rawData.drop(rawData.columns[0], axis=1, inplace=True)\n",
    "\n",
    "rawData.head()"
   ]
  },
  {
   "cell_type": "code",
   "execution_count": null,
   "id": "2627404b-db95-4a6d-af96-6e94e4dc9d99",
   "metadata": {},
   "outputs": [],
   "source": [
    "#dependent variable\n",
    "y = rawData['default_payment_next_month']\n",
    "\n",
    "#features\n",
    "X = rawData.iloc[0:,0:23]\n",
    "print('Summary of feature sample')\n",
    "X.head()"
   ]
  },
  {
   "cell_type": "code",
   "execution_count": null,
   "id": "a6cb53ae-7a0e-424f-8a11-1df9a49bf7d3",
   "metadata": {},
   "outputs": [],
   "source": [
    "X_train, X_test, y_train, y_test = train_test_split(X, y, test_size = .20)"
   ]
  },
  {
   "cell_type": "code",
   "execution_count": null,
   "id": "d3a24f69-8b80-470e-9315-616f9b5d9ebb",
   "metadata": {},
   "outputs": [],
   "source": [
    "#validate feature selection using SelectKBest\n",
    "selector = SelectKBest(f_classif, k=10)\n",
    "selector.fit(X_train, y_train)\n",
    "scores = -np.log10(selector.pvalues_)\n",
    "scores /= scores.max()"
   ]
  },
  {
   "cell_type": "code",
   "execution_count": null,
   "id": "eba09505-3a24-4de8-8184-78924712af59",
   "metadata": {},
   "outputs": [],
   "source": [
    "import matplotlib.pyplot as plt\n",
    "\n",
    "X_indices = np.arange(X.shape[-1])\n",
    "plt.figure(1)\n",
    "plt.clf()\n",
    "plt.bar(X_indices - 0.05, scores, width=0.2)\n",
    "plt.title(\"Feature univariate score\")\n",
    "plt.xlabel(\"Feature number\")\n",
    "plt.ylabel(r\"Univariate score ($-Log(p_{value})$)\")\n",
    "plt.show()"
   ]
  },
  {
   "cell_type": "markdown",
   "id": "8b30212e-1046-43b6-9bf4-c548fa2ce21e",
   "metadata": {},
   "source": [
    "Features 5-10 are significant in predicting default_payment_next_month, they have the highest score with univariate feature selection"
   ]
  },
  {
   "cell_type": "code",
   "execution_count": null,
   "id": "c3bf7e0a-7111-498b-814e-94661c0bb671",
   "metadata": {},
   "outputs": [],
   "source": [
    "#compare with SVMs\n",
    "from sklearn.pipeline import make_pipeline\n",
    "from sklearn.preprocessing import MinMaxScaler\n",
    "from sklearn.svm import LinearSVC\n",
    "\n",
    "clf = make_pipeline(MinMaxScaler(), LinearSVC())\n",
    "clf.fit(X_train, y_train)\n",
    "print(\n",
    "    \"Classification accuracy without selecting features: {:.3f}\".format(\n",
    "        clf.score(X_test, y_test)\n",
    "    )\n",
    ")\n",
    "\n",
    "svm_weights = np.abs(clf[-1].coef_).sum(axis=0)\n",
    "svm_weights /= svm_weights.sum()"
   ]
  },
  {
   "cell_type": "code",
   "execution_count": null,
   "id": "550945c4-24e0-49c2-9bc1-489141cc3cbb",
   "metadata": {},
   "outputs": [],
   "source": [
    "svm_weights"
   ]
  },
  {
   "cell_type": "code",
   "execution_count": null,
   "id": "d6e2e7e6-5d41-4d71-977d-283a529a7c03",
   "metadata": {},
   "outputs": [],
   "source": [
    "#after univariate feature selection\n",
    "clf_selected = make_pipeline(SelectKBest(f_classif, k=10), MinMaxScaler(), LinearSVC())\n",
    "clf_selected.fit(X_train, y_train)\n",
    "print(\n",
    "    \"Classification accuracy after univariate feature selection: {:.3f}\".format(\n",
    "        clf_selected.score(X_test, y_test)\n",
    "    )\n",
    ")\n",
    "\n",
    "svm_weights_selected = np.abs(clf_selected[-1].coef_).sum(axis=0)\n",
    "svm_weights_selected /= svm_weights_selected.sum()"
   ]
  },
  {
   "cell_type": "code",
   "execution_count": null,
   "id": "2c663085-25b1-42a2-91c8-782133be6ac2",
   "metadata": {},
   "outputs": [],
   "source": [
    "svm_weights_selected"
   ]
  },
  {
   "cell_type": "code",
   "execution_count": null,
   "id": "1c2bde6c-ce9f-4945-9e60-4ba60a5ea96f",
   "metadata": {},
   "outputs": [],
   "source": [
    "plt.bar(\n",
    "    X_indices - 0.45, scores, width=0.2, label=r\"Univariate score ($-Log(p_{value})$)\"\n",
    ")\n",
    "\n",
    "plt.bar(X_indices - 0.25, svm_weights, width=0.2, label=\"SVM weight\")\n",
    "\n",
    "plt.bar(\n",
    "    X_indices[selector.get_support()] - 0.05,\n",
    "    svm_weights_selected,\n",
    "    width=0.2,\n",
    "    label=\"SVM weights after selection\",\n",
    ")\n",
    "plt.title(\"Comparing feature selection\")\n",
    "plt.xlabel(\"Feature number\")\n",
    "plt.yticks(())\n",
    "plt.axis(\"tight\")\n",
    "plt.legend(loc=\"upper right\")\n",
    "plt.show()"
   ]
  },
  {
   "cell_type": "code",
   "execution_count": null,
   "id": "cfe4a44e-9f01-443c-83d3-4ef060cae3aa",
   "metadata": {},
   "outputs": [],
   "source": [
    "#redefining X based on SelectKBest\n",
    "#features\n",
    "X = rawData.iloc[:, [5,7,8,9,10,17]]\n",
    "print('Summary of feature sample')\n",
    "X.head()"
   ]
  },
  {
   "cell_type": "code",
   "execution_count": null,
   "id": "47bc4626-4f61-4592-bd35-e75cddc5a5bf",
   "metadata": {},
   "outputs": [],
   "source": [
    "#redefine train-test-split\n",
    "X_train, X_test, y_train, y_test = train_test_split(X, y, test_size = .20)"
   ]
  },
  {
   "cell_type": "code",
   "execution_count": null,
   "id": "3ec12488-0c15-452a-9e9e-3407f1c11036",
   "metadata": {},
   "outputs": [],
   "source": [
    "algosClass = []\n",
    "\n",
    "algosClass.append(('Random Forest Regressor',RandomForestRegressor()))\n",
    "\n",
    "algosClass.append(('Linear Regression',LinearRegression()))\n",
    "\n",
    "algosClass.append(('Support Vector Regression', SVR()))\n",
    "\n",
    "#regression\n",
    "results = []\n",
    "names = []\n",
    "for name, model in algosClass:\n",
    "    result = cross_val_score(model, X,y, cv=3, scoring='r2')\n",
    "    names.append(name)\n",
    "    results.append(result)\n",
    "\n",
    "for i in range(len(names)):\n",
    "    print(names[i],results[i].mean())"
   ]
  },
  {
   "cell_type": "markdown",
   "id": "181c0504-f810-4768-89d3-ce36e15d563e",
   "metadata": {},
   "source": [
    "With the input data set, none of these models will perform well to ensure that customers will be able to pay their loans.\n",
    "\n",
    "Of the 3 options, Linear Regression should perform the best as it has the highest r2 value"
   ]
  },
  {
   "cell_type": "markdown",
   "id": "1b41422c-e9a2-4720-a473-da60ade7f047",
   "metadata": {},
   "source": [
    "# Determine if customers can pay their loans"
   ]
  },
  {
   "cell_type": "code",
   "execution_count": null,
   "id": "73892fe1-ecdb-4052-bbfc-84a8bae85f7c",
   "metadata": {},
   "outputs": [],
   "source": [
    "#algo = RandomForestRegressor()\n",
    "algo = LinearRegression()\n",
    "#algo = SVR()"
   ]
  },
  {
   "cell_type": "code",
   "execution_count": null,
   "id": "c149937a-f4e2-4d28-9f07-6804f1d37768",
   "metadata": {},
   "outputs": [],
   "source": [
    "model = algo.fit(X_train,y_train)"
   ]
  },
  {
   "cell_type": "code",
   "execution_count": null,
   "id": "1c19fc40-560f-473e-90e4-59e8bfaf4a43",
   "metadata": {},
   "outputs": [],
   "source": [
    "#make predictions\n",
    "predictions = model.predict(X_test)\n",
    "predRsquared = r2_score(y_test,predictions)\n",
    "rmse = sqrt(mean_squared_error(y_test, predictions))\n",
    "print('R Squared: %.3f' % predRsquared)\n",
    "print('RMSE: %.3f' % rmse)"
   ]
  },
  {
   "cell_type": "code",
   "execution_count": null,
   "id": "56916236-0ed2-4254-87e5-a336c94a50ce",
   "metadata": {},
   "outputs": [],
   "source": [
    "plt.scatter(y_test, predictions, alpha = .5)\n",
    "plt.xlabel('Ground Truth')\n",
    "plt.ylabel('Predictions')\n",
    "plt.gcf().axes[0].xaxis.get_major_formatter().set_scientific(False)\n",
    "plt.gcf().axes[0].yaxis.get_major_formatter().set_scientific(False)\n",
    "\n",
    "plt.show();"
   ]
  },
  {
   "cell_type": "markdown",
   "id": "33b39b27-391d-453a-b232-f106bac94fa7",
   "metadata": {},
   "source": [
    "# Determine the Credit Limit"
   ]
  },
  {
   "cell_type": "code",
   "execution_count": null,
   "id": "086ff835-3678-4ddd-b8b8-4a6bf022bf91",
   "metadata": {},
   "outputs": [],
   "source": [
    "#reusing rawData from the above\n",
    "\n",
    "rawData.head()"
   ]
  },
  {
   "cell_type": "code",
   "execution_count": null,
   "id": "5f819275-e1c9-4eb9-a1ae-ff0cd674210b",
   "metadata": {},
   "outputs": [],
   "source": [
    "#dependent variable\n",
    "y = rawData['LIMIT_BAL']\n",
    "\n",
    "#features\n",
    "X = rawData.iloc[0:,1:24]\n",
    "print('Summary of feature sample')\n",
    "X.head()"
   ]
  },
  {
   "cell_type": "code",
   "execution_count": null,
   "id": "61aaf3f9-5c85-4259-a2b0-185965acd43b",
   "metadata": {},
   "outputs": [],
   "source": [
    "X_train, X_test, y_train, y_test = train_test_split(X, y, test_size = .20)"
   ]
  },
  {
   "cell_type": "code",
   "execution_count": null,
   "id": "213eb2e3-cd09-4ae3-9f11-577070cdd394",
   "metadata": {},
   "outputs": [],
   "source": [
    "#validate feature selection using SelectKBest\n",
    "selector = SelectKBest(f_classif, k=10)\n",
    "selector.fit(X_train, y_train)\n",
    "scores = -np.log10(selector.pvalues_)\n",
    "scores /= scores.max()"
   ]
  },
  {
   "cell_type": "code",
   "execution_count": null,
   "id": "39795ace-47a4-4262-960d-ba9a63bcc680",
   "metadata": {},
   "outputs": [],
   "source": [
    "import matplotlib.pyplot as plt\n",
    "\n",
    "X_indices = np.arange(X.shape[-1])\n",
    "plt.figure(1)\n",
    "plt.clf()\n",
    "plt.bar(X_indices - 0.05, scores, width=0.2)\n",
    "plt.title(\"Feature univariate score\")\n",
    "plt.xlabel(\"Feature number\")\n",
    "plt.ylabel(r\"Univariate score ($-Log(p_{value})$)\")\n",
    "plt.show()"
   ]
  },
  {
   "cell_type": "markdown",
   "id": "7af941b1-9527-4196-9ba3-12cec235b972",
   "metadata": {},
   "source": [
    "Features 1 and 4-21 appear to be significant in predicting LIMIT_BAL, they have the highest score with univariate feature selection"
   ]
  },
  {
   "cell_type": "code",
   "execution_count": null,
   "id": "2d1e514a-8c96-4628-87ca-f7c2c852b041",
   "metadata": {},
   "outputs": [],
   "source": [
    "#compare with SVMs\n",
    "from sklearn.pipeline import make_pipeline\n",
    "from sklearn.preprocessing import MinMaxScaler\n",
    "from sklearn.svm import LinearSVC\n",
    "\n",
    "clf = make_pipeline(MinMaxScaler(), LinearSVC())\n",
    "clf.fit(X_train, y_train)\n",
    "print(\n",
    "    \"Classification accuracy without selecting features: {:.3f}\".format(\n",
    "        clf.score(X_test, y_test)\n",
    "    )\n",
    ")\n",
    "\n",
    "svm_weights = np.abs(clf[-1].coef_).sum(axis=0)\n",
    "svm_weights /= svm_weights.sum()"
   ]
  },
  {
   "cell_type": "code",
   "execution_count": null,
   "id": "a050a9a2-1895-4e3b-b148-f0f0a9fca41e",
   "metadata": {},
   "outputs": [],
   "source": [
    "svm_weights"
   ]
  },
  {
   "cell_type": "code",
   "execution_count": null,
   "id": "41b60d0b-f4a0-48d9-84e1-c7a32488c222",
   "metadata": {},
   "outputs": [],
   "source": [
    "#after univariate feature selection\n",
    "clf_selected = make_pipeline(SelectKBest(f_classif, k=10), MinMaxScaler(), LinearSVC())\n",
    "clf_selected.fit(X_train, y_train)\n",
    "print(\n",
    "    \"Classification accuracy after univariate feature selection: {:.3f}\".format(\n",
    "        clf_selected.score(X_test, y_test)\n",
    "    )\n",
    ")\n",
    "\n",
    "svm_weights_selected = np.abs(clf_selected[-1].coef_).sum(axis=0)\n",
    "svm_weights_selected /= svm_weights_selected.sum()"
   ]
  },
  {
   "cell_type": "code",
   "execution_count": null,
   "id": "7bb382e7-1498-491a-b4bb-aa7f4d4ce2d7",
   "metadata": {},
   "outputs": [],
   "source": [
    "svm_weights_selected"
   ]
  },
  {
   "cell_type": "code",
   "execution_count": null,
   "id": "f614fd1f-1159-46c4-af20-0a75b6af64b6",
   "metadata": {},
   "outputs": [],
   "source": [
    "plt.bar(\n",
    "    X_indices - 0.45, scores, width=0.2, label=r\"Univariate score ($-Log(p_{value})$)\"\n",
    ")\n",
    "\n",
    "plt.bar(X_indices - 0.25, svm_weights, width=0.2, label=\"SVM weight\")\n",
    "\n",
    "plt.bar(\n",
    "    X_indices[selector.get_support()] - 0.05,\n",
    "    svm_weights_selected,\n",
    "    width=0.2,\n",
    "    label=\"SVM weights after selection\",\n",
    ")\n",
    "plt.title(\"Comparing feature selection\")\n",
    "plt.xlabel(\"Feature number\")\n",
    "plt.yticks(())\n",
    "plt.axis(\"tight\")\n",
    "plt.legend(loc=\"upper right\")\n",
    "plt.show()"
   ]
  },
  {
   "cell_type": "markdown",
   "id": "65b98c64-6463-472e-bc1b-c8f5f281aa64",
   "metadata": {},
   "source": [
    "The SVM weights after selection appear to show that features 11-15, and 20 are significant to predicting LIMIT_BAL"
   ]
  },
  {
   "cell_type": "code",
   "execution_count": null,
   "id": "3675215e-db37-4565-84bd-b7dde70d0268",
   "metadata": {},
   "outputs": [],
   "source": [
    "#redefining X based on SelectKBest\n",
    "#features\n",
    "X = rawData.iloc[:, [6,10,11,12,13,14,15,17,18,20]]\n",
    "print('Summary of feature sample')\n",
    "X.head()"
   ]
  },
  {
   "cell_type": "code",
   "execution_count": null,
   "id": "e49b5271-4966-4a6d-81c2-b186815ba902",
   "metadata": {},
   "outputs": [],
   "source": [
    "#redefine train-test-split\n",
    "X_train, X_test, y_train, y_test = train_test_split(X, y, test_size = .20)"
   ]
  },
  {
   "cell_type": "code",
   "execution_count": null,
   "id": "877a914c-4499-4751-a61d-16c47a2acb21",
   "metadata": {},
   "outputs": [],
   "source": [
    "algosClass = []\n",
    "\n",
    "algosClass.append(('Random Forest Regressor',RandomForestRegressor()))\n",
    "\n",
    "algosClass.append(('Linear Regression',LinearRegression()))\n",
    "\n",
    "algosClass.append(('Support Vector Regression', SVR()))\n",
    "\n",
    "#regression\n",
    "results = []\n",
    "names = []\n",
    "for name, model in algosClass:\n",
    "    result = cross_val_score(model, X,y, cv=3, scoring='r2')\n",
    "    names.append(name)\n",
    "    results.append(result)\n",
    "\n",
    "for i in range(len(names)):\n",
    "    print(names[i],results[i].mean())"
   ]
  },
  {
   "cell_type": "markdown",
   "id": "4c1095bd-bc73-45df-8a32-4f212c79ec6f",
   "metadata": {},
   "source": [
    "With the input data set, none of these models will perform well to ensure that customers will be able to pay their loans.\n",
    "\n",
    "Of the 3 options, Random Forest Regression should perform the best as it has the highest r2 value"
   ]
  },
  {
   "cell_type": "code",
   "execution_count": null,
   "id": "18d254ca-db22-4218-8b7b-523570086f10",
   "metadata": {},
   "outputs": [],
   "source": [
    "algo = RandomForestRegressor()\n",
    "#algo = LinearRegression()\n",
    "#algo = SVR()"
   ]
  },
  {
   "cell_type": "code",
   "execution_count": null,
   "id": "d1d12445-009f-4939-9f48-7fdb71250c77",
   "metadata": {},
   "outputs": [],
   "source": [
    "model = algo.fit(X_train,y_train)"
   ]
  },
  {
   "cell_type": "code",
   "execution_count": null,
   "id": "62966357-ce2e-4d07-91e6-85f0e22af090",
   "metadata": {},
   "outputs": [],
   "source": [
    "#make predictions\n",
    "predictions = model.predict(X_test)\n",
    "predRsquared = r2_score(y_test,predictions)\n",
    "rmse = sqrt(mean_squared_error(y_test, predictions))\n",
    "print('R Squared: %.3f' % predRsquared)\n",
    "print('RMSE: %.3f' % rmse)"
   ]
  },
  {
   "cell_type": "code",
   "execution_count": null,
   "id": "c15e8c34-cd1d-458e-8ece-648b6b316674",
   "metadata": {},
   "outputs": [],
   "source": [
    "plt.scatter(y_test, predictions, alpha = .5)\n",
    "plt.xlabel('Ground Truth')\n",
    "plt.ylabel('Predictions')\n",
    "plt.gcf().axes[0].xaxis.get_major_formatter().set_scientific(False)\n",
    "plt.gcf().axes[0].yaxis.get_major_formatter().set_scientific(False)\n",
    "\n",
    "plt.show();"
   ]
  },
  {
   "cell_type": "markdown",
   "id": "3fbaa274-f889-4c0d-83b3-83cbea88b38b",
   "metadata": {},
   "source": [
    "### Regression Conclusions: The regression models are not an acceptable way to predict whether customers can make their payments next month, or what the credit limit should be."
   ]
  },
  {
   "cell_type": "code",
   "execution_count": null,
   "id": "7413b8a5-8704-46cd-a6d9-29443eac669f",
   "metadata": {},
   "outputs": [],
   "source": []
  }
 ],
 "metadata": {
  "kernelspec": {
   "display_name": "Python [conda env:.conda-course2] *",
   "language": "python",
   "name": "conda-env-.conda-course2-py"
  },
  "language_info": {
   "codemirror_mode": {
    "name": "ipython",
    "version": 3
   },
   "file_extension": ".py",
   "mimetype": "text/x-python",
   "name": "python",
   "nbconvert_exporter": "python",
   "pygments_lexer": "ipython3",
   "version": "3.8.13"
  }
 },
 "nbformat": 4,
 "nbformat_minor": 5
}
